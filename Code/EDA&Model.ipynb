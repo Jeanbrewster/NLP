{
 "cells": [
  {
   "cell_type": "code",
   "execution_count": 1,
   "id": "ca7d43d8-5a0c-4da4-9809-45b51b49dbda",
   "metadata": {},
   "outputs": [],
   "source": [
    "# Imports\n",
    "import seaborn as sns\n",
    "import numpy as np\n",
    "import pandas as pd\n",
    "import matplotlib.pyplot as plt\n",
    "from sklearn.model_selection import train_test_split, GridSearchCV\n",
    "from sklearn.pipeline import Pipeline\n",
    "from sklearn.naive_bayes import MultinomialNB\n",
    "from sklearn.linear_model import LogisticRegression\n",
    "from sklearn.metrics import confusion_matrix, plot_confusion_matrix\n",
    "\n",
    "from sklearn.ensemble import RandomForestClassifier, ExtraTreesClassifier\n",
    "from sklearn.model_selection import cross_val_score, train_test_split, GridSearchCV\n",
    "\n",
    "\n",
    "import nltk\n",
    "from nltk.tokenize import sent_tokenize, word_tokenize, RegexpTokenizer\n",
    "from nltk.stem import PorterStemmer, WordNetLemmatizer\n",
    "from nltk.corpus import stopwords, wordnet\n",
    "from nltk.sentiment.vader import SentimentIntensityAnalyzer\n",
    "\n",
    "# Import CountVectorizer and TFIDFVectorizer from feature_extraction.text.\n",
    "from sklearn.feature_extraction.text import CountVectorizer, TfidfVectorizer\n",
    "\n",
    "# this setting widens how many characters pandas will display in a column:\n",
    "pd.options.display.max_colwidth = 40"
   ]
  },
  {
   "cell_type": "markdown",
   "id": "a7d6dbde-54a1-4ad9-b61e-2dc89995637b",
   "metadata": {},
   "source": [
    "# Reading & Cleaning Data"
   ]
  },
  {
   "cell_type": "code",
   "execution_count": 2,
   "id": "af9f3c8f-0779-482b-8b52-334aaf65c094",
   "metadata": {},
   "outputs": [
    {
     "data": {
      "text/html": [
       "<div>\n",
       "<style scoped>\n",
       "    .dataframe tbody tr th:only-of-type {\n",
       "        vertical-align: middle;\n",
       "    }\n",
       "\n",
       "    .dataframe tbody tr th {\n",
       "        vertical-align: top;\n",
       "    }\n",
       "\n",
       "    .dataframe thead th {\n",
       "        text-align: right;\n",
       "    }\n",
       "</style>\n",
       "<table border=\"1\" class=\"dataframe\">\n",
       "  <thead>\n",
       "    <tr style=\"text-align: right;\">\n",
       "      <th></th>\n",
       "      <th>author</th>\n",
       "      <th>author_fullname</th>\n",
       "      <th>created_utc</th>\n",
       "      <th>id</th>\n",
       "      <th>num_comments</th>\n",
       "      <th>permalink</th>\n",
       "      <th>score</th>\n",
       "      <th>selftext</th>\n",
       "      <th>subreddit</th>\n",
       "      <th>title</th>\n",
       "      <th>url</th>\n",
       "      <th>is_self</th>\n",
       "    </tr>\n",
       "  </thead>\n",
       "  <tbody>\n",
       "    <tr>\n",
       "      <th>0</th>\n",
       "      <td>aIIisonmay</td>\n",
       "      <td>t2_fioduy9y</td>\n",
       "      <td>1664582453</td>\n",
       "      <td>xsgm3o</td>\n",
       "      <td>1</td>\n",
       "      <td>/r/vegan/comments/xsgm3o/which_dairy...</td>\n",
       "      <td>1</td>\n",
       "      <td>Hello! I'm vegan and I'm making a Po...</td>\n",
       "      <td>vegan</td>\n",
       "      <td>Which dairy corporations are the mos...</td>\n",
       "      <td>https://www.reddit.com/r/vegan/comme...</td>\n",
       "      <td>True</td>\n",
       "    </tr>\n",
       "    <tr>\n",
       "      <th>1</th>\n",
       "      <td>deepnek</td>\n",
       "      <td>t2_4nemzh03</td>\n",
       "      <td>1664582537</td>\n",
       "      <td>xsgn7o</td>\n",
       "      <td>0</td>\n",
       "      <td>/r/vegan/comments/xsgn7o/anyone_else...</td>\n",
       "      <td>1</td>\n",
       "      <td>[removed]</td>\n",
       "      <td>vegan</td>\n",
       "      <td>Anyone else get sick to their stomac...</td>\n",
       "      <td>https://www.reddit.com/r/vegan/comme...</td>\n",
       "      <td>True</td>\n",
       "    </tr>\n",
       "    <tr>\n",
       "      <th>2</th>\n",
       "      <td>FloNightG123</td>\n",
       "      <td>t2_ggf8ss2i</td>\n",
       "      <td>1664583242</td>\n",
       "      <td>xsgwhr</td>\n",
       "      <td>0</td>\n",
       "      <td>/r/vegan/comments/xsgwhr/windy_lentils/</td>\n",
       "      <td>1</td>\n",
       "      <td>[removed]</td>\n",
       "      <td>vegan</td>\n",
       "      <td>Windy lentils</td>\n",
       "      <td>https://www.reddit.com/r/vegan/comme...</td>\n",
       "      <td>True</td>\n",
       "    </tr>\n",
       "    <tr>\n",
       "      <th>3</th>\n",
       "      <td>Thatcoonfella</td>\n",
       "      <td>t2_qbozi</td>\n",
       "      <td>1664584319</td>\n",
       "      <td>xsha31</td>\n",
       "      <td>0</td>\n",
       "      <td>/r/vegan/comments/xsha31/vegan_choco...</td>\n",
       "      <td>1</td>\n",
       "      <td>NaN</td>\n",
       "      <td>vegan</td>\n",
       "      <td>Vegan chocolate made in Keizer, Oreg...</td>\n",
       "      <td>https://i.redd.it/ztrgoa7aa3r91.jpg</td>\n",
       "      <td>False</td>\n",
       "    </tr>\n",
       "    <tr>\n",
       "      <th>4</th>\n",
       "      <td>tazzysnazzy</td>\n",
       "      <td>t2_4dvyf</td>\n",
       "      <td>1664584953</td>\n",
       "      <td>xshi92</td>\n",
       "      <td>1</td>\n",
       "      <td>/r/vegan/comments/xshi92/omnis_are_r...</td>\n",
       "      <td>1</td>\n",
       "      <td>NaN</td>\n",
       "      <td>vegan</td>\n",
       "      <td>Omnis are running out of excuses</td>\n",
       "      <td>https://theveganherald.com/2022/09/m...</td>\n",
       "      <td>False</td>\n",
       "    </tr>\n",
       "  </tbody>\n",
       "</table>\n",
       "</div>"
      ],
      "text/plain": [
       "          author author_fullname  created_utc      id  num_comments  \\\n",
       "0     aIIisonmay     t2_fioduy9y   1664582453  xsgm3o             1   \n",
       "1        deepnek     t2_4nemzh03   1664582537  xsgn7o             0   \n",
       "2   FloNightG123     t2_ggf8ss2i   1664583242  xsgwhr             0   \n",
       "3  Thatcoonfella        t2_qbozi   1664584319  xsha31             0   \n",
       "4    tazzysnazzy        t2_4dvyf   1664584953  xshi92             1   \n",
       "\n",
       "                                 permalink  score  \\\n",
       "0  /r/vegan/comments/xsgm3o/which_dairy...      1   \n",
       "1  /r/vegan/comments/xsgn7o/anyone_else...      1   \n",
       "2  /r/vegan/comments/xsgwhr/windy_lentils/      1   \n",
       "3  /r/vegan/comments/xsha31/vegan_choco...      1   \n",
       "4  /r/vegan/comments/xshi92/omnis_are_r...      1   \n",
       "\n",
       "                                  selftext subreddit  \\\n",
       "0  Hello! I'm vegan and I'm making a Po...     vegan   \n",
       "1                                [removed]     vegan   \n",
       "2                                [removed]     vegan   \n",
       "3                                      NaN     vegan   \n",
       "4                                      NaN     vegan   \n",
       "\n",
       "                                     title  \\\n",
       "0  Which dairy corporations are the mos...   \n",
       "1  Anyone else get sick to their stomac...   \n",
       "2                            Windy lentils   \n",
       "3  Vegan chocolate made in Keizer, Oreg...   \n",
       "4         Omnis are running out of excuses   \n",
       "\n",
       "                                       url  is_self  \n",
       "0  https://www.reddit.com/r/vegan/comme...     True  \n",
       "1  https://www.reddit.com/r/vegan/comme...     True  \n",
       "2  https://www.reddit.com/r/vegan/comme...     True  \n",
       "3      https://i.redd.it/ztrgoa7aa3r91.jpg    False  \n",
       "4  https://theveganherald.com/2022/09/m...    False  "
      ]
     },
     "execution_count": 2,
     "metadata": {},
     "output_type": "execute_result"
    }
   ],
   "source": [
    "# Read in data.\n",
    "\n",
    "vegan = pd.read_csv('../Data/vegan_all.csv')\n",
    "\n",
    "vegan.head()"
   ]
  },
  {
   "cell_type": "code",
   "execution_count": 3,
   "id": "ae075cf6-1fb3-412c-a7ba-1821502fe49a",
   "metadata": {},
   "outputs": [
    {
     "data": {
      "text/plain": [
       "(1997, 12)"
      ]
     },
     "execution_count": 3,
     "metadata": {},
     "output_type": "execute_result"
    }
   ],
   "source": [
    "vegan.shape"
   ]
  },
  {
   "cell_type": "code",
   "execution_count": 4,
   "id": "41f9d258-5928-40a3-854d-55799f54a83c",
   "metadata": {},
   "outputs": [
    {
     "data": {
      "text/html": [
       "<div>\n",
       "<style scoped>\n",
       "    .dataframe tbody tr th:only-of-type {\n",
       "        vertical-align: middle;\n",
       "    }\n",
       "\n",
       "    .dataframe tbody tr th {\n",
       "        vertical-align: top;\n",
       "    }\n",
       "\n",
       "    .dataframe thead th {\n",
       "        text-align: right;\n",
       "    }\n",
       "</style>\n",
       "<table border=\"1\" class=\"dataframe\">\n",
       "  <thead>\n",
       "    <tr style=\"text-align: right;\">\n",
       "      <th></th>\n",
       "      <th>author</th>\n",
       "      <th>author_fullname</th>\n",
       "      <th>created_utc</th>\n",
       "      <th>id</th>\n",
       "      <th>num_comments</th>\n",
       "      <th>permalink</th>\n",
       "      <th>score</th>\n",
       "      <th>selftext</th>\n",
       "      <th>subreddit</th>\n",
       "      <th>title</th>\n",
       "      <th>url</th>\n",
       "      <th>is_self</th>\n",
       "      <th>label</th>\n",
       "    </tr>\n",
       "  </thead>\n",
       "  <tbody>\n",
       "    <tr>\n",
       "      <th>0</th>\n",
       "      <td>aIIisonmay</td>\n",
       "      <td>t2_fioduy9y</td>\n",
       "      <td>1664582453</td>\n",
       "      <td>xsgm3o</td>\n",
       "      <td>1</td>\n",
       "      <td>/r/vegan/comments/xsgm3o/which_dairy...</td>\n",
       "      <td>1</td>\n",
       "      <td>Hello! I'm vegan and I'm making a Po...</td>\n",
       "      <td>vegan</td>\n",
       "      <td>Which dairy corporations are the mos...</td>\n",
       "      <td>https://www.reddit.com/r/vegan/comme...</td>\n",
       "      <td>True</td>\n",
       "      <td>0</td>\n",
       "    </tr>\n",
       "    <tr>\n",
       "      <th>1</th>\n",
       "      <td>deepnek</td>\n",
       "      <td>t2_4nemzh03</td>\n",
       "      <td>1664582537</td>\n",
       "      <td>xsgn7o</td>\n",
       "      <td>0</td>\n",
       "      <td>/r/vegan/comments/xsgn7o/anyone_else...</td>\n",
       "      <td>1</td>\n",
       "      <td>[removed]</td>\n",
       "      <td>vegan</td>\n",
       "      <td>Anyone else get sick to their stomac...</td>\n",
       "      <td>https://www.reddit.com/r/vegan/comme...</td>\n",
       "      <td>True</td>\n",
       "      <td>0</td>\n",
       "    </tr>\n",
       "    <tr>\n",
       "      <th>2</th>\n",
       "      <td>FloNightG123</td>\n",
       "      <td>t2_ggf8ss2i</td>\n",
       "      <td>1664583242</td>\n",
       "      <td>xsgwhr</td>\n",
       "      <td>0</td>\n",
       "      <td>/r/vegan/comments/xsgwhr/windy_lentils/</td>\n",
       "      <td>1</td>\n",
       "      <td>[removed]</td>\n",
       "      <td>vegan</td>\n",
       "      <td>Windy lentils</td>\n",
       "      <td>https://www.reddit.com/r/vegan/comme...</td>\n",
       "      <td>True</td>\n",
       "      <td>0</td>\n",
       "    </tr>\n",
       "    <tr>\n",
       "      <th>3</th>\n",
       "      <td>Thatcoonfella</td>\n",
       "      <td>t2_qbozi</td>\n",
       "      <td>1664584319</td>\n",
       "      <td>xsha31</td>\n",
       "      <td>0</td>\n",
       "      <td>/r/vegan/comments/xsha31/vegan_choco...</td>\n",
       "      <td>1</td>\n",
       "      <td>NaN</td>\n",
       "      <td>vegan</td>\n",
       "      <td>Vegan chocolate made in Keizer, Oreg...</td>\n",
       "      <td>https://i.redd.it/ztrgoa7aa3r91.jpg</td>\n",
       "      <td>False</td>\n",
       "      <td>0</td>\n",
       "    </tr>\n",
       "    <tr>\n",
       "      <th>4</th>\n",
       "      <td>tazzysnazzy</td>\n",
       "      <td>t2_4dvyf</td>\n",
       "      <td>1664584953</td>\n",
       "      <td>xshi92</td>\n",
       "      <td>1</td>\n",
       "      <td>/r/vegan/comments/xshi92/omnis_are_r...</td>\n",
       "      <td>1</td>\n",
       "      <td>NaN</td>\n",
       "      <td>vegan</td>\n",
       "      <td>Omnis are running out of excuses</td>\n",
       "      <td>https://theveganherald.com/2022/09/m...</td>\n",
       "      <td>False</td>\n",
       "      <td>0</td>\n",
       "    </tr>\n",
       "  </tbody>\n",
       "</table>\n",
       "</div>"
      ],
      "text/plain": [
       "          author author_fullname  created_utc      id  num_comments  \\\n",
       "0     aIIisonmay     t2_fioduy9y   1664582453  xsgm3o             1   \n",
       "1        deepnek     t2_4nemzh03   1664582537  xsgn7o             0   \n",
       "2   FloNightG123     t2_ggf8ss2i   1664583242  xsgwhr             0   \n",
       "3  Thatcoonfella        t2_qbozi   1664584319  xsha31             0   \n",
       "4    tazzysnazzy        t2_4dvyf   1664584953  xshi92             1   \n",
       "\n",
       "                                 permalink  score  \\\n",
       "0  /r/vegan/comments/xsgm3o/which_dairy...      1   \n",
       "1  /r/vegan/comments/xsgn7o/anyone_else...      1   \n",
       "2  /r/vegan/comments/xsgwhr/windy_lentils/      1   \n",
       "3  /r/vegan/comments/xsha31/vegan_choco...      1   \n",
       "4  /r/vegan/comments/xshi92/omnis_are_r...      1   \n",
       "\n",
       "                                  selftext subreddit  \\\n",
       "0  Hello! I'm vegan and I'm making a Po...     vegan   \n",
       "1                                [removed]     vegan   \n",
       "2                                [removed]     vegan   \n",
       "3                                      NaN     vegan   \n",
       "4                                      NaN     vegan   \n",
       "\n",
       "                                     title  \\\n",
       "0  Which dairy corporations are the mos...   \n",
       "1  Anyone else get sick to their stomac...   \n",
       "2                            Windy lentils   \n",
       "3  Vegan chocolate made in Keizer, Oreg...   \n",
       "4         Omnis are running out of excuses   \n",
       "\n",
       "                                       url  is_self  label  \n",
       "0  https://www.reddit.com/r/vegan/comme...     True      0  \n",
       "1  https://www.reddit.com/r/vegan/comme...     True      0  \n",
       "2  https://www.reddit.com/r/vegan/comme...     True      0  \n",
       "3      https://i.redd.it/ztrgoa7aa3r91.jpg    False      0  \n",
       "4  https://theveganherald.com/2022/09/m...    False      0  "
      ]
     },
     "execution_count": 4,
     "metadata": {},
     "output_type": "execute_result"
    }
   ],
   "source": [
    "# Create label column\n",
    "vegan['label'] = vegan['subreddit'].map({'vegan': 0, 'PlantBasedDiet': 1})\n",
    "\n",
    "vegan.head()"
   ]
  },
  {
   "cell_type": "code",
   "execution_count": 5,
   "id": "d2f737e6-6596-4a44-a173-e3b513f2413e",
   "metadata": {},
   "outputs": [
    {
     "data": {
      "text/plain": [
       "author               0\n",
       "author_fullname      0\n",
       "created_utc          0\n",
       "id                   0\n",
       "num_comments         0\n",
       "permalink            0\n",
       "score                0\n",
       "selftext           941\n",
       "subreddit            0\n",
       "title                0\n",
       "url                  0\n",
       "is_self              0\n",
       "label                0\n",
       "dtype: int64"
      ]
     },
     "execution_count": 5,
     "metadata": {},
     "output_type": "execute_result"
    }
   ],
   "source": [
    "vegan.isnull().sum()"
   ]
  },
  {
   "cell_type": "code",
   "execution_count": 6,
   "id": "57999d00-31b5-464d-8c9f-c536a509dbf7",
   "metadata": {},
   "outputs": [],
   "source": [
    "vegan['selftext'].fillna(' ', inplace=True)"
   ]
  },
  {
   "cell_type": "code",
   "execution_count": 7,
   "id": "a6f9cc89-4b00-46d2-bd89-56d1f3d8b4fe",
   "metadata": {},
   "outputs": [
    {
     "data": {
      "text/plain": [
       "author             0\n",
       "author_fullname    0\n",
       "created_utc        0\n",
       "id                 0\n",
       "num_comments       0\n",
       "permalink          0\n",
       "score              0\n",
       "selftext           0\n",
       "subreddit          0\n",
       "title              0\n",
       "url                0\n",
       "is_self            0\n",
       "label              0\n",
       "dtype: int64"
      ]
     },
     "execution_count": 7,
     "metadata": {},
     "output_type": "execute_result"
    }
   ],
   "source": [
    "vegan.isnull().sum()"
   ]
  },
  {
   "cell_type": "markdown",
   "id": "53bc5c9a-23c2-4188-97bb-7fadba46b127",
   "metadata": {},
   "source": [
    "# Section I : EDA"
   ]
  },
  {
   "cell_type": "markdown",
   "id": "3a333c3a-782e-45e0-a341-765ecf5449be",
   "metadata": {
    "tags": []
   },
   "source": [
    "### Who are the top authors across BOTH subreddits (Vegan & PlantBased)"
   ]
  },
  {
   "cell_type": "code",
   "execution_count": 73,
   "id": "b26dbdf2-af0b-4233-8938-409cda4e5fd9",
   "metadata": {},
   "outputs": [
    {
     "name": "stdout",
     "output_type": "stream",
     "text": [
      "1514\n"
     ]
    },
    {
     "data": {
      "text/plain": [
       "author\n",
       "OutcomeForeign6525      17\n",
       "veganactivismbot        15\n",
       "RealisticChard6         11\n",
       "letsfallintothevoid      8\n",
       "GraphCat                 8\n",
       "                        ..\n",
       "Planetbeforepleasure     1\n",
       "PlanetEarthWorm          1\n",
       "PinkiePaul               1\n",
       "PinkiThinki              1\n",
       "zoezie                   1\n",
       "Name: selftext, Length: 1514, dtype: int64"
      ]
     },
     "execution_count": 73,
     "metadata": {},
     "output_type": "execute_result"
    }
   ],
   "source": [
    "unique_users = vegan.groupby('author').count()['selftext'].sort_values(ascending = False)\n",
    "\n",
    "print(len(unique_users))\n",
    "unique_users\n"
   ]
  },
  {
   "cell_type": "code",
   "execution_count": 10,
   "id": "9d001874-5f15-4e31-812a-a65e47652f1c",
   "metadata": {},
   "outputs": [],
   "source": [
    "#source: Tan\n",
    "vegan['log_comments']=np.log10(vegan['num_comments']+1)"
   ]
  },
  {
   "cell_type": "code",
   "execution_count": 69,
   "id": "60d36b49-606f-4899-9a1c-c20318523cc0",
   "metadata": {},
   "outputs": [
    {
     "data": {
      "image/png": "[encoded data removed]",
      "text/plain": [
       "<Figure size 720x504 with 1 Axes>"
      ]
     },
     "metadata": {
      "needs_background": "light"
     },
     "output_type": "display_data"
    }
   ],
   "source": [
    "# More directional to show the plant-based subreddit directionally has more engagement on their posts\n",
    "\n",
    "\n",
    "plt.figure(figsize= (10, 7))\n",
    "sns.histplot(data = vegan, x='log_comments', hue = 'label');\n",
    "plt.title('Distribution by number of comments')\n",
    "plt.savefig('../Images/hist_Num_Comments.jpeg')\n",
    "#plt.xticks()"
   ]
  },
  {
   "cell_type": "code",
   "execution_count": 12,
   "id": "ed2564da-2b44-4ca8-8a7e-daa2fc4e89fd",
   "metadata": {},
   "outputs": [
    {
     "data": {
      "text/plain": [
       "count    1997.000000\n",
       "mean        1.408613\n",
       "std         9.343655\n",
       "min         0.000000\n",
       "0%          0.000000\n",
       "5%          0.000000\n",
       "10%         0.000000\n",
       "15%         0.000000\n",
       "20%         0.000000\n",
       "25%         0.000000\n",
       "30%         0.000000\n",
       "35%         0.000000\n",
       "40%         0.000000\n",
       "45%         0.000000\n",
       "50%         0.000000\n",
       "55%         0.000000\n",
       "60%         0.000000\n",
       "65%         0.000000\n",
       "70%         0.000000\n",
       "75%         0.000000\n",
       "80%         1.000000\n",
       "85%         1.000000\n",
       "90%         1.000000\n",
       "95%         2.000000\n",
       "100%      298.000000\n",
       "max       298.000000\n",
       "Name: num_comments, dtype: float64"
      ]
     },
     "execution_count": 12,
     "metadata": {},
     "output_type": "execute_result"
    }
   ],
   "source": [
    "vegan.num_comments.describe(percentiles = np.arange(0, 1.05, .05))"
   ]
  },
  {
   "cell_type": "code",
   "execution_count": 13,
   "id": "eb758f54-a999-44f2-838e-2f3f150207d2",
   "metadata": {},
   "outputs": [
    {
     "name": "stdout",
     "output_type": "stream",
     "text": [
      "49\n"
     ]
    },
    {
     "data": {
      "text/plain": [
       "num_comments\n",
       "0      1527\n",
       "1       345\n",
       "2        26\n",
       "4        11\n",
       "6         9\n",
       "11        6\n",
       "3         5\n",
       "7         5\n",
       "12        4\n",
       "21        4\n",
       "5         3\n",
       "30        3\n",
       "25        3\n",
       "20        2\n",
       "59        2\n",
       "27        2\n",
       "29        2\n",
       "16        2\n",
       "14        2\n",
       "13        2\n",
       "10        2\n",
       "9         2\n",
       "8         2\n",
       "17        1\n",
       "60        1\n",
       "49        1\n",
       "52        1\n",
       "56        1\n",
       "78        1\n",
       "73        1\n",
       "46        1\n",
       "80        1\n",
       "82        1\n",
       "106       1\n",
       "47        1\n",
       "43        1\n",
       "45        1\n",
       "44        1\n",
       "39        1\n",
       "37        1\n",
       "36        1\n",
       "35        1\n",
       "34        1\n",
       "32        1\n",
       "31        1\n",
       "23        1\n",
       "22        1\n",
       "15        1\n",
       "298       1\n",
       "Name: author, dtype: int64"
      ]
     },
     "execution_count": 13,
     "metadata": {},
     "output_type": "execute_result"
    }
   ],
   "source": [
    "top_comments = vegan.groupby('num_comments').count()['author'].sort_values(ascending = False)\n",
    "\n",
    "print(len(top_comments))\n",
    "top_comments"
   ]
  },
  {
   "cell_type": "code",
   "execution_count": 14,
   "id": "8f63b994-6b89-443b-a752-5e7eedfac36c",
   "metadata": {},
   "outputs": [
    {
     "data": {
      "text/plain": [
       "(1997, 14)"
      ]
     },
     "execution_count": 14,
     "metadata": {},
     "output_type": "execute_result"
    }
   ],
   "source": [
    "vegan.shape"
   ]
  },
  {
   "cell_type": "code",
   "execution_count": 15,
   "id": "a8d82fa1-781b-41c0-b94e-62458bb6e545",
   "metadata": {},
   "outputs": [],
   "source": [
    "vegan['post_length']  = vegan['selftext'].str.len()"
   ]
  },
  {
   "cell_type": "code",
   "execution_count": 16,
   "id": "07f10071-637c-4d56-b8e5-7343a9601d97",
   "metadata": {},
   "outputs": [],
   "source": [
    "vegan['post_word_count']  = vegan['selftext'].apply(lambda n: len(n.split()))"
   ]
  },
  {
   "cell_type": "code",
   "execution_count": 17,
   "id": "dac6ee1f-1995-4229-aab5-f2bef6e8e4b3",
   "metadata": {},
   "outputs": [
    {
     "data": {
      "text/html": [
       "<div>\n",
       "<style scoped>\n",
       "    .dataframe tbody tr th:only-of-type {\n",
       "        vertical-align: middle;\n",
       "    }\n",
       "\n",
       "    .dataframe tbody tr th {\n",
       "        vertical-align: top;\n",
       "    }\n",
       "\n",
       "    .dataframe thead th {\n",
       "        text-align: right;\n",
       "    }\n",
       "</style>\n",
       "<table border=\"1\" class=\"dataframe\">\n",
       "  <thead>\n",
       "    <tr style=\"text-align: right;\">\n",
       "      <th></th>\n",
       "      <th>author</th>\n",
       "      <th>author_fullname</th>\n",
       "      <th>created_utc</th>\n",
       "      <th>id</th>\n",
       "      <th>num_comments</th>\n",
       "      <th>permalink</th>\n",
       "      <th>score</th>\n",
       "      <th>selftext</th>\n",
       "      <th>subreddit</th>\n",
       "      <th>title</th>\n",
       "      <th>url</th>\n",
       "      <th>is_self</th>\n",
       "      <th>label</th>\n",
       "      <th>log_comments</th>\n",
       "      <th>post_length</th>\n",
       "      <th>post_word_count</th>\n",
       "    </tr>\n",
       "  </thead>\n",
       "  <tbody>\n",
       "    <tr>\n",
       "      <th>0</th>\n",
       "      <td>aIIisonmay</td>\n",
       "      <td>t2_fioduy9y</td>\n",
       "      <td>1664582453</td>\n",
       "      <td>xsgm3o</td>\n",
       "      <td>1</td>\n",
       "      <td>/r/vegan/comments/xsgm3o/which_dairy...</td>\n",
       "      <td>1</td>\n",
       "      <td>Hello! I'm vegan and I'm making a Po...</td>\n",
       "      <td>vegan</td>\n",
       "      <td>Which dairy corporations are the mos...</td>\n",
       "      <td>https://www.reddit.com/r/vegan/comme...</td>\n",
       "      <td>True</td>\n",
       "      <td>0</td>\n",
       "      <td>0.30103</td>\n",
       "      <td>593</td>\n",
       "      <td>112</td>\n",
       "    </tr>\n",
       "    <tr>\n",
       "      <th>1</th>\n",
       "      <td>deepnek</td>\n",
       "      <td>t2_4nemzh03</td>\n",
       "      <td>1664582537</td>\n",
       "      <td>xsgn7o</td>\n",
       "      <td>0</td>\n",
       "      <td>/r/vegan/comments/xsgn7o/anyone_else...</td>\n",
       "      <td>1</td>\n",
       "      <td>[removed]</td>\n",
       "      <td>vegan</td>\n",
       "      <td>Anyone else get sick to their stomac...</td>\n",
       "      <td>https://www.reddit.com/r/vegan/comme...</td>\n",
       "      <td>True</td>\n",
       "      <td>0</td>\n",
       "      <td>0.00000</td>\n",
       "      <td>9</td>\n",
       "      <td>1</td>\n",
       "    </tr>\n",
       "    <tr>\n",
       "      <th>2</th>\n",
       "      <td>FloNightG123</td>\n",
       "      <td>t2_ggf8ss2i</td>\n",
       "      <td>1664583242</td>\n",
       "      <td>xsgwhr</td>\n",
       "      <td>0</td>\n",
       "      <td>/r/vegan/comments/xsgwhr/windy_lentils/</td>\n",
       "      <td>1</td>\n",
       "      <td>[removed]</td>\n",
       "      <td>vegan</td>\n",
       "      <td>Windy lentils</td>\n",
       "      <td>https://www.reddit.com/r/vegan/comme...</td>\n",
       "      <td>True</td>\n",
       "      <td>0</td>\n",
       "      <td>0.00000</td>\n",
       "      <td>9</td>\n",
       "      <td>1</td>\n",
       "    </tr>\n",
       "    <tr>\n",
       "      <th>3</th>\n",
       "      <td>Thatcoonfella</td>\n",
       "      <td>t2_qbozi</td>\n",
       "      <td>1664584319</td>\n",
       "      <td>xsha31</td>\n",
       "      <td>0</td>\n",
       "      <td>/r/vegan/comments/xsha31/vegan_choco...</td>\n",
       "      <td>1</td>\n",
       "      <td></td>\n",
       "      <td>vegan</td>\n",
       "      <td>Vegan chocolate made in Keizer, Oreg...</td>\n",
       "      <td>https://i.redd.it/ztrgoa7aa3r91.jpg</td>\n",
       "      <td>False</td>\n",
       "      <td>0</td>\n",
       "      <td>0.00000</td>\n",
       "      <td>1</td>\n",
       "      <td>0</td>\n",
       "    </tr>\n",
       "    <tr>\n",
       "      <th>4</th>\n",
       "      <td>tazzysnazzy</td>\n",
       "      <td>t2_4dvyf</td>\n",
       "      <td>1664584953</td>\n",
       "      <td>xshi92</td>\n",
       "      <td>1</td>\n",
       "      <td>/r/vegan/comments/xshi92/omnis_are_r...</td>\n",
       "      <td>1</td>\n",
       "      <td></td>\n",
       "      <td>vegan</td>\n",
       "      <td>Omnis are running out of excuses</td>\n",
       "      <td>https://theveganherald.com/2022/09/m...</td>\n",
       "      <td>False</td>\n",
       "      <td>0</td>\n",
       "      <td>0.30103</td>\n",
       "      <td>1</td>\n",
       "      <td>0</td>\n",
       "    </tr>\n",
       "  </tbody>\n",
       "</table>\n",
       "</div>"
      ],
      "text/plain": [
       "          author author_fullname  created_utc      id  num_comments  \\\n",
       "0     aIIisonmay     t2_fioduy9y   1664582453  xsgm3o             1   \n",
       "1        deepnek     t2_4nemzh03   1664582537  xsgn7o             0   \n",
       "2   FloNightG123     t2_ggf8ss2i   1664583242  xsgwhr             0   \n",
       "3  Thatcoonfella        t2_qbozi   1664584319  xsha31             0   \n",
       "4    tazzysnazzy        t2_4dvyf   1664584953  xshi92             1   \n",
       "\n",
       "                                 permalink  score  \\\n",
       "0  /r/vegan/comments/xsgm3o/which_dairy...      1   \n",
       "1  /r/vegan/comments/xsgn7o/anyone_else...      1   \n",
       "2  /r/vegan/comments/xsgwhr/windy_lentils/      1   \n",
       "3  /r/vegan/comments/xsha31/vegan_choco...      1   \n",
       "4  /r/vegan/comments/xshi92/omnis_are_r...      1   \n",
       "\n",
       "                                  selftext subreddit  \\\n",
       "0  Hello! I'm vegan and I'm making a Po...     vegan   \n",
       "1                                [removed]     vegan   \n",
       "2                                [removed]     vegan   \n",
       "3                                              vegan   \n",
       "4                                              vegan   \n",
       "\n",
       "                                     title  \\\n",
       "0  Which dairy corporations are the mos...   \n",
       "1  Anyone else get sick to their stomac...   \n",
       "2                            Windy lentils   \n",
       "3  Vegan chocolate made in Keizer, Oreg...   \n",
       "4         Omnis are running out of excuses   \n",
       "\n",
       "                                       url  is_self  label  log_comments  \\\n",
       "0  https://www.reddit.com/r/vegan/comme...     True      0       0.30103   \n",
       "1  https://www.reddit.com/r/vegan/comme...     True      0       0.00000   \n",
       "2  https://www.reddit.com/r/vegan/comme...     True      0       0.00000   \n",
       "3      https://i.redd.it/ztrgoa7aa3r91.jpg    False      0       0.00000   \n",
       "4  https://theveganherald.com/2022/09/m...    False      0       0.30103   \n",
       "\n",
       "   post_length  post_word_count  \n",
       "0          593              112  \n",
       "1            9                1  \n",
       "2            9                1  \n",
       "3            1                0  \n",
       "4            1                0  "
      ]
     },
     "execution_count": 17,
     "metadata": {},
     "output_type": "execute_result"
    }
   ],
   "source": [
    "vegan.head()"
   ]
  },
  {
   "cell_type": "code",
   "execution_count": 18,
   "id": "9596c79c-86eb-4947-90da-3605a10b8efb",
   "metadata": {},
   "outputs": [
    {
     "data": {
      "text/plain": [
       "count    1997.000000\n",
       "mean        1.408613\n",
       "std         9.343655\n",
       "min         0.000000\n",
       "25%         0.000000\n",
       "50%         0.000000\n",
       "75%         0.000000\n",
       "max       298.000000\n",
       "Name: num_comments, dtype: float64"
      ]
     },
     "execution_count": 18,
     "metadata": {},
     "output_type": "execute_result"
    }
   ],
   "source": [
    "vegan.num_comments.describe()"
   ]
  },
  {
   "cell_type": "code",
   "execution_count": 19,
   "id": "d8789961-7027-4e41-b3f3-7b9ed75e7f76",
   "metadata": {},
   "outputs": [
    {
     "data": {
      "text/html": [
       "<div>\n",
       "<style scoped>\n",
       "    .dataframe tbody tr th:only-of-type {\n",
       "        vertical-align: middle;\n",
       "    }\n",
       "\n",
       "    .dataframe tbody tr th {\n",
       "        vertical-align: top;\n",
       "    }\n",
       "\n",
       "    .dataframe thead th {\n",
       "        text-align: right;\n",
       "    }\n",
       "</style>\n",
       "<table border=\"1\" class=\"dataframe\">\n",
       "  <thead>\n",
       "    <tr style=\"text-align: right;\">\n",
       "      <th></th>\n",
       "      <th>selftext</th>\n",
       "    </tr>\n",
       "  </thead>\n",
       "  <tbody>\n",
       "    <tr>\n",
       "      <th>1996</th>\n",
       "      <td></td>\n",
       "    </tr>\n",
       "    <tr>\n",
       "      <th>1487</th>\n",
       "      <td></td>\n",
       "    </tr>\n",
       "    <tr>\n",
       "      <th>1485</th>\n",
       "      <td></td>\n",
       "    </tr>\n",
       "    <tr>\n",
       "      <th>738</th>\n",
       "      <td></td>\n",
       "    </tr>\n",
       "    <tr>\n",
       "      <th>1483</th>\n",
       "      <td></td>\n",
       "    </tr>\n",
       "  </tbody>\n",
       "</table>\n",
       "</div>"
      ],
      "text/plain": [
       "     selftext\n",
       "1996         \n",
       "1487         \n",
       "1485         \n",
       "738          \n",
       "1483         "
      ]
     },
     "execution_count": 19,
     "metadata": {},
     "output_type": "execute_result"
    }
   ],
   "source": [
    "# top 5 shortest posts\n",
    "vegan.sort_values(by = 'post_length')[['selftext']].head()"
   ]
  },
  {
   "cell_type": "code",
   "execution_count": 20,
   "id": "233ebc54-baf8-4045-b598-40d5ce0d9925",
   "metadata": {},
   "outputs": [
    {
     "data": {
      "text/html": [
       "<div>\n",
       "<style scoped>\n",
       "    .dataframe tbody tr th:only-of-type {\n",
       "        vertical-align: middle;\n",
       "    }\n",
       "\n",
       "    .dataframe tbody tr th {\n",
       "        vertical-align: top;\n",
       "    }\n",
       "\n",
       "    .dataframe thead th {\n",
       "        text-align: right;\n",
       "    }\n",
       "</style>\n",
       "<table border=\"1\" class=\"dataframe\">\n",
       "  <thead>\n",
       "    <tr style=\"text-align: right;\">\n",
       "      <th></th>\n",
       "      <th>selftext</th>\n",
       "    </tr>\n",
       "  </thead>\n",
       "  <tbody>\n",
       "    <tr>\n",
       "      <th>750</th>\n",
       "      <td>I just had this very upsetting encou...</td>\n",
       "    </tr>\n",
       "    <tr>\n",
       "      <th>647</th>\n",
       "      <td>Hi everyone. I volunteer with Crazy ...</td>\n",
       "    </tr>\n",
       "    <tr>\n",
       "      <th>1489</th>\n",
       "      <td>**PREMISE**\\n\\nI’ll start with the a...</td>\n",
       "    </tr>\n",
       "    <tr>\n",
       "      <th>1175</th>\n",
       "      <td>#**Preface**\\n\\nI’m bringing forth t...</td>\n",
       "    </tr>\n",
       "    <tr>\n",
       "      <th>779</th>\n",
       "      <td>Step 1: Grab some non-dairy milk!\\n\\...</td>\n",
       "    </tr>\n",
       "  </tbody>\n",
       "</table>\n",
       "</div>"
      ],
      "text/plain": [
       "                                     selftext\n",
       "750   I just had this very upsetting encou...\n",
       "647   Hi everyone. I volunteer with Crazy ...\n",
       "1489  **PREMISE**\\n\\nI’ll start with the a...\n",
       "1175  #**Preface**\\n\\nI’m bringing forth t...\n",
       "779   Step 1: Grab some non-dairy milk!\\n\\..."
      ]
     },
     "execution_count": 20,
     "metadata": {},
     "output_type": "execute_result"
    }
   ],
   "source": [
    "# top 5 longest statuses\n",
    "vegan.sort_values(by = 'post_length')[['selftext']].tail()"
   ]
  },
  {
   "cell_type": "code",
   "execution_count": 21,
   "id": "cdb046a2-f856-48f8-aa1e-68b96f28a5f4",
   "metadata": {},
   "outputs": [
    {
     "data": {
      "text/html": [
       "<div>\n",
       "<style scoped>\n",
       "    .dataframe tbody tr th:only-of-type {\n",
       "        vertical-align: middle;\n",
       "    }\n",
       "\n",
       "    .dataframe tbody tr th {\n",
       "        vertical-align: top;\n",
       "    }\n",
       "\n",
       "    .dataframe thead th {\n",
       "        text-align: right;\n",
       "    }\n",
       "</style>\n",
       "<table border=\"1\" class=\"dataframe\">\n",
       "  <thead>\n",
       "    <tr style=\"text-align: right;\">\n",
       "      <th></th>\n",
       "      <th>selftext</th>\n",
       "    </tr>\n",
       "  </thead>\n",
       "  <tbody>\n",
       "    <tr>\n",
       "      <th>1996</th>\n",
       "      <td></td>\n",
       "    </tr>\n",
       "    <tr>\n",
       "      <th>1487</th>\n",
       "      <td></td>\n",
       "    </tr>\n",
       "    <tr>\n",
       "      <th>1485</th>\n",
       "      <td></td>\n",
       "    </tr>\n",
       "    <tr>\n",
       "      <th>738</th>\n",
       "      <td></td>\n",
       "    </tr>\n",
       "    <tr>\n",
       "      <th>1483</th>\n",
       "      <td></td>\n",
       "    </tr>\n",
       "  </tbody>\n",
       "</table>\n",
       "</div>"
      ],
      "text/plain": [
       "     selftext\n",
       "1996         \n",
       "1487         \n",
       "1485         \n",
       "738          \n",
       "1483         "
      ]
     },
     "execution_count": 21,
     "metadata": {},
     "output_type": "execute_result"
    }
   ],
   "source": [
    "# top 5 shortest statuses\n",
    "vegan.sort_values(by = 'post_word_count')[['selftext']].head()"
   ]
  },
  {
   "cell_type": "code",
   "execution_count": 22,
   "id": "a8432631-b6fc-4303-b285-771b4b4be161",
   "metadata": {},
   "outputs": [],
   "source": [
    "#source: Tan\n",
    "vegan['log_post_length']=np.log10(vegan['post_length']+1)"
   ]
  },
  {
   "cell_type": "code",
   "execution_count": 23,
   "id": "c118a3a6-7eb7-4cb9-b9aa-050f97b7e0a3",
   "metadata": {},
   "outputs": [
    {
     "data": {
      "image/png": "[encoded data removed]",
      "text/plain": [
       "<Figure size 720x576 with 1 Axes>"
      ]
     },
     "metadata": {
      "needs_background": "light"
     },
     "output_type": "display_data"
    },
    {
     "data": {
      "text/plain": [
       "<Figure size 432x288 with 0 Axes>"
      ]
     },
     "metadata": {},
     "output_type": "display_data"
    }
   ],
   "source": [
    "# plt.hist(distribution of post length and word counts)\n",
    "\n",
    "plt.figure(figsize=(10,8))\n",
    "plt.xlabel('Post length')\n",
    "plt.title('Distribution by length of posts')\n",
    "sns.histplot(data = vegan, x='log_post_length', hue = 'label');\n",
    "plt.show()\n",
    "plt.savefig('../Images/hist_Len_Posts.jpeg')"
   ]
  },
  {
   "cell_type": "code",
   "execution_count": 25,
   "id": "db051778-4734-4009-a79c-fc1ae5323de0",
   "metadata": {},
   "outputs": [
    {
     "name": "stdout",
     "output_type": "stream",
     "text": [
      "                                     selftext\n",
      "1749  Hey all, I’m mostly a lurker but I’d...\n",
      "218   The Veal of Ignorance \\n\\n​When cons...\n",
      "750   I just had this very upsetting encou...\n",
      "1175  #**Preface**\\n\\nI’m bringing forth t...\n",
      "1489  **PREMISE**\\n\\nI’ll start with the a...\n"
     ]
    }
   ],
   "source": [
    "pd.set_option('display.width', 2000)\n",
    "long_posts = vegan.sort_values(by = 'post_word_count')[['selftext']].tail()\n",
    "\n",
    "print(long_posts)\n"
   ]
  },
  {
   "cell_type": "code",
   "execution_count": 26,
   "id": "03932d3a-9185-4330-a7dd-426dc6f94f1f",
   "metadata": {},
   "outputs": [],
   "source": [
    "#source: Tan\n",
    "vegan['log_post_word_count']=np.log10(vegan['post_word_count']+1)"
   ]
  },
  {
   "cell_type": "code",
   "execution_count": 27,
   "id": "4394d2a4-d202-4ac8-bfb2-7cb25cdd9603",
   "metadata": {},
   "outputs": [
    {
     "data": {
      "image/png": "[encoded data removed]",
      "text/plain": [
       "<Figure size 720x576 with 1 Axes>"
      ]
     },
     "metadata": {
      "needs_background": "light"
     },
     "output_type": "display_data"
    },
    {
     "data": {
      "text/plain": [
       "<Figure size 432x288 with 0 Axes>"
      ]
     },
     "metadata": {},
     "output_type": "display_data"
    }
   ],
   "source": [
    "# plt.hist(distribution of post length and word counts)\n",
    "\n",
    "plt.figure(figsize=(10,8))\n",
    "plt.xlabel('Post word counts')\n",
    "plt.title('Distribution of word count')\n",
    "sns.histplot(data = vegan, x='log_post_word_count', hue = 'label');\n",
    "plt.show()\n",
    "plt.savefig('../Images/hist_WordCount.jpeg')"
   ]
  },
  {
   "cell_type": "markdown",
   "id": "a4af27ef-6d0f-477e-a04d-d7b310cc4398",
   "metadata": {},
   "source": [
    "## Analyzing Sustainability Words in DataFrame"
   ]
  },
  {
   "cell_type": "code",
   "execution_count": 30,
   "id": "e0e30410-728f-41a4-8c9a-1adc716e9076",
   "metadata": {},
   "outputs": [
    {
     "data": {
      "text/html": [
       "<div>\n",
       "<style scoped>\n",
       "    .dataframe tbody tr th:only-of-type {\n",
       "        vertical-align: middle;\n",
       "    }\n",
       "\n",
       "    .dataframe tbody tr th {\n",
       "        vertical-align: top;\n",
       "    }\n",
       "\n",
       "    .dataframe thead th {\n",
       "        text-align: right;\n",
       "    }\n",
       "</style>\n",
       "<table border=\"1\" class=\"dataframe\">\n",
       "  <thead>\n",
       "    <tr style=\"text-align: right;\">\n",
       "      <th></th>\n",
       "      <th>author</th>\n",
       "      <th>author_fullname</th>\n",
       "      <th>created_utc</th>\n",
       "      <th>id</th>\n",
       "      <th>num_comments</th>\n",
       "      <th>permalink</th>\n",
       "      <th>score</th>\n",
       "      <th>selftext</th>\n",
       "      <th>subreddit</th>\n",
       "      <th>title</th>\n",
       "      <th>url</th>\n",
       "      <th>is_self</th>\n",
       "      <th>label</th>\n",
       "      <th>log_comments</th>\n",
       "      <th>post_length</th>\n",
       "      <th>post_word_count</th>\n",
       "      <th>log_post_length</th>\n",
       "      <th>log_post_word_count</th>\n",
       "    </tr>\n",
       "  </thead>\n",
       "  <tbody>\n",
       "    <tr>\n",
       "      <th>760</th>\n",
       "      <td>jungleskater</td>\n",
       "      <td>t2_bmbdc3xj</td>\n",
       "      <td>1646147459</td>\n",
       "      <td>t4a2i5</td>\n",
       "      <td>4</td>\n",
       "      <td>/r/vegan/comments/t4a2i5/rescue_chic...</td>\n",
       "      <td>1</td>\n",
       "      <td>I'm trying to figure out what to do....</td>\n",
       "      <td>vegan</td>\n",
       "      <td>Rescue chickens making too many eggs 🙈</td>\n",
       "      <td>https://www.reddit.com/r/vegan/comme...</td>\n",
       "      <td>True</td>\n",
       "      <td>0</td>\n",
       "      <td>0.69897</td>\n",
       "      <td>896</td>\n",
       "      <td>175</td>\n",
       "      <td>2.952792</td>\n",
       "      <td>2.245513</td>\n",
       "    </tr>\n",
       "  </tbody>\n",
       "</table>\n",
       "</div>"
      ],
      "text/plain": [
       "           author author_fullname  created_utc      id  num_comments                                permalink  score                                 selftext subreddit                                   title                                      url  is_self  label  log_comments  post_length  post_word_count  log_post_length  log_post_word_count\n",
       "760  jungleskater     t2_bmbdc3xj   1646147459  t4a2i5             4  /r/vegan/comments/t4a2i5/rescue_chic...      1  I'm trying to figure out what to do....     vegan  Rescue chickens making too many eggs 🙈  https://www.reddit.com/r/vegan/comme...     True      0       0.69897          896              175         2.952792             2.245513"
      ]
     },
     "execution_count": 30,
     "metadata": {},
     "output_type": "execute_result"
    }
   ],
   "source": [
    "vegan[vegan['selftext'].str.contains('sustainability')]"
   ]
  },
  {
   "cell_type": "code",
   "execution_count": 31,
   "id": "03d3841d-8665-476f-9d5b-126f7525d5f0",
   "metadata": {},
   "outputs": [
    {
     "data": {
      "text/html": [
       "<div>\n",
       "<style scoped>\n",
       "    .dataframe tbody tr th:only-of-type {\n",
       "        vertical-align: middle;\n",
       "    }\n",
       "\n",
       "    .dataframe tbody tr th {\n",
       "        vertical-align: top;\n",
       "    }\n",
       "\n",
       "    .dataframe thead th {\n",
       "        text-align: right;\n",
       "    }\n",
       "</style>\n",
       "<table border=\"1\" class=\"dataframe\">\n",
       "  <thead>\n",
       "    <tr style=\"text-align: right;\">\n",
       "      <th></th>\n",
       "      <th>author</th>\n",
       "      <th>author_fullname</th>\n",
       "      <th>created_utc</th>\n",
       "      <th>id</th>\n",
       "      <th>num_comments</th>\n",
       "      <th>permalink</th>\n",
       "      <th>score</th>\n",
       "      <th>selftext</th>\n",
       "      <th>subreddit</th>\n",
       "      <th>title</th>\n",
       "      <th>url</th>\n",
       "      <th>is_self</th>\n",
       "      <th>label</th>\n",
       "      <th>log_comments</th>\n",
       "      <th>post_length</th>\n",
       "      <th>post_word_count</th>\n",
       "      <th>log_post_length</th>\n",
       "      <th>log_post_word_count</th>\n",
       "    </tr>\n",
       "  </thead>\n",
       "  <tbody>\n",
       "    <tr>\n",
       "      <th>303</th>\n",
       "      <td>QueenFrankie420</td>\n",
       "      <td>t2_2t4vhpr3</td>\n",
       "      <td>1656636117</td>\n",
       "      <td>vonkal</td>\n",
       "      <td>1</td>\n",
       "      <td>/r/vegan/comments/vonkal/idk_what_mo...</td>\n",
       "      <td>1</td>\n",
       "      <td>I kind of got into an argument with ...</td>\n",
       "      <td>vegan</td>\n",
       "      <td>idk what more I could have said?</td>\n",
       "      <td>https://www.reddit.com/r/vegan/comme...</td>\n",
       "      <td>True</td>\n",
       "      <td>0</td>\n",
       "      <td>0.30103</td>\n",
       "      <td>2509</td>\n",
       "      <td>482</td>\n",
       "      <td>3.399674</td>\n",
       "      <td>2.683947</td>\n",
       "    </tr>\n",
       "    <tr>\n",
       "      <th>484</th>\n",
       "      <td>Hardcorr_4448</td>\n",
       "      <td>t2_e4o6ga5g</td>\n",
       "      <td>1654102928</td>\n",
       "      <td>v2lqmd</td>\n",
       "      <td>1</td>\n",
       "      <td>/r/vegan/comments/v2lqmd/im_allergic...</td>\n",
       "      <td>1</td>\n",
       "      <td>I am a vegetarian my whole life, Veg...</td>\n",
       "      <td>vegan</td>\n",
       "      <td>I’m allergic to soy, what now? Any t...</td>\n",
       "      <td>https://www.reddit.com/r/vegan/comme...</td>\n",
       "      <td>True</td>\n",
       "      <td>0</td>\n",
       "      <td>0.30103</td>\n",
       "      <td>540</td>\n",
       "      <td>97</td>\n",
       "      <td>2.733197</td>\n",
       "      <td>1.991226</td>\n",
       "    </tr>\n",
       "    <tr>\n",
       "      <th>915</th>\n",
       "      <td>desuwarrior13</td>\n",
       "      <td>t2_dg6vlsyo</td>\n",
       "      <td>1641002976</td>\n",
       "      <td>rt92id</td>\n",
       "      <td>0</td>\n",
       "      <td>/r/vegan/comments/rt92id/tofu_altern...</td>\n",
       "      <td>1</td>\n",
       "      <td>Personally, I am highly allergic to ...</td>\n",
       "      <td>vegan</td>\n",
       "      <td>Tofu Alternative: Pumfu</td>\n",
       "      <td>https://www.reddit.com/r/vegan/comme...</td>\n",
       "      <td>True</td>\n",
       "      <td>0</td>\n",
       "      <td>0.00000</td>\n",
       "      <td>480</td>\n",
       "      <td>92</td>\n",
       "      <td>2.682145</td>\n",
       "      <td>1.968483</td>\n",
       "    </tr>\n",
       "    <tr>\n",
       "      <th>1163</th>\n",
       "      <td>houseofprimetofu</td>\n",
       "      <td>t2_ordru</td>\n",
       "      <td>1662507476</td>\n",
       "      <td>x7pgkw</td>\n",
       "      <td>0</td>\n",
       "      <td>/r/PlantBasedDiet/comments/x7pgkw/vi...</td>\n",
       "      <td>1</td>\n",
       "      <td>I have been on a plant diet since 20...</td>\n",
       "      <td>PlantBasedDiet</td>\n",
       "      <td>Vitamin B Complex, how do you get yo...</td>\n",
       "      <td>https://www.reddit.com/r/PlantBasedD...</td>\n",
       "      <td>True</td>\n",
       "      <td>1</td>\n",
       "      <td>0.00000</td>\n",
       "      <td>1980</td>\n",
       "      <td>341</td>\n",
       "      <td>3.296884</td>\n",
       "      <td>2.534026</td>\n",
       "    </tr>\n",
       "    <tr>\n",
       "      <th>1300</th>\n",
       "      <td>Yae_Bae</td>\n",
       "      <td>t2_jl16p91k</td>\n",
       "      <td>1656693015</td>\n",
       "      <td>vp4wyk</td>\n",
       "      <td>0</td>\n",
       "      <td>/r/PlantBasedDiet/comments/vp4wyk/wh...</td>\n",
       "      <td>1</td>\n",
       "      <td>For some background, about half year...</td>\n",
       "      <td>PlantBasedDiet</td>\n",
       "      <td>What else should I try?</td>\n",
       "      <td>https://www.reddit.com/r/PlantBasedD...</td>\n",
       "      <td>True</td>\n",
       "      <td>1</td>\n",
       "      <td>0.00000</td>\n",
       "      <td>2653</td>\n",
       "      <td>510</td>\n",
       "      <td>3.423901</td>\n",
       "      <td>2.708421</td>\n",
       "    </tr>\n",
       "    <tr>\n",
       "      <th>1925</th>\n",
       "      <td>maquis_00</td>\n",
       "      <td>t2_14v8cw</td>\n",
       "      <td>1641219790</td>\n",
       "      <td>rv2t25</td>\n",
       "      <td>0</td>\n",
       "      <td>/r/PlantBasedDiet/comments/rv2t25/be...</td>\n",
       "      <td>1</td>\n",
       "      <td>So far, I've been buying my cashews ...</td>\n",
       "      <td>PlantBasedDiet</td>\n",
       "      <td>Best place/way to buy unsalted unroa...</td>\n",
       "      <td>https://www.reddit.com/r/PlantBasedD...</td>\n",
       "      <td>True</td>\n",
       "      <td>1</td>\n",
       "      <td>0.00000</td>\n",
       "      <td>583</td>\n",
       "      <td>109</td>\n",
       "      <td>2.766413</td>\n",
       "      <td>2.041393</td>\n",
       "    </tr>\n",
       "    <tr>\n",
       "      <th>1981</th>\n",
       "      <td>AShipChandler</td>\n",
       "      <td>t2_h1z21</td>\n",
       "      <td>1641667821</td>\n",
       "      <td>rz6v6k</td>\n",
       "      <td>0</td>\n",
       "      <td>/r/PlantBasedDiet/comments/rz6v6k/mu...</td>\n",
       "      <td>1</td>\n",
       "      <td>I am about to start taking Chaga an...</td>\n",
       "      <td>PlantBasedDiet</td>\n",
       "      <td>Mushrooms for Toddler</td>\n",
       "      <td>https://www.reddit.com/r/PlantBasedD...</td>\n",
       "      <td>True</td>\n",
       "      <td>1</td>\n",
       "      <td>0.00000</td>\n",
       "      <td>459</td>\n",
       "      <td>83</td>\n",
       "      <td>2.662758</td>\n",
       "      <td>1.924279</td>\n",
       "    </tr>\n",
       "  </tbody>\n",
       "</table>\n",
       "</div>"
      ],
      "text/plain": [
       "                author author_fullname  created_utc      id  num_comments                                permalink  score                                 selftext       subreddit                                    title                                      url  is_self  label  log_comments  post_length  post_word_count  log_post_length  log_post_word_count\n",
       "303    QueenFrankie420     t2_2t4vhpr3   1656636117  vonkal             1  /r/vegan/comments/vonkal/idk_what_mo...      1  I kind of got into an argument with ...           vegan         idk what more I could have said?  https://www.reddit.com/r/vegan/comme...     True      0       0.30103         2509              482         3.399674             2.683947\n",
       "484      Hardcorr_4448     t2_e4o6ga5g   1654102928  v2lqmd             1  /r/vegan/comments/v2lqmd/im_allergic...      1  I am a vegetarian my whole life, Veg...           vegan  I’m allergic to soy, what now? Any t...  https://www.reddit.com/r/vegan/comme...     True      0       0.30103          540               97         2.733197             1.991226\n",
       "915      desuwarrior13     t2_dg6vlsyo   1641002976  rt92id             0  /r/vegan/comments/rt92id/tofu_altern...      1  Personally, I am highly allergic to ...           vegan                  Tofu Alternative: Pumfu  https://www.reddit.com/r/vegan/comme...     True      0       0.00000          480               92         2.682145             1.968483\n",
       "1163  houseofprimetofu        t2_ordru   1662507476  x7pgkw             0  /r/PlantBasedDiet/comments/x7pgkw/vi...      1  I have been on a plant diet since 20...  PlantBasedDiet  Vitamin B Complex, how do you get yo...  https://www.reddit.com/r/PlantBasedD...     True      1       0.00000         1980              341         3.296884             2.534026\n",
       "1300           Yae_Bae     t2_jl16p91k   1656693015  vp4wyk             0  /r/PlantBasedDiet/comments/vp4wyk/wh...      1  For some background, about half year...  PlantBasedDiet                  What else should I try?  https://www.reddit.com/r/PlantBasedD...     True      1       0.00000         2653              510         3.423901             2.708421\n",
       "1925         maquis_00       t2_14v8cw   1641219790  rv2t25             0  /r/PlantBasedDiet/comments/rv2t25/be...      1  So far, I've been buying my cashews ...  PlantBasedDiet  Best place/way to buy unsalted unroa...  https://www.reddit.com/r/PlantBasedD...     True      1       0.00000          583              109         2.766413             2.041393\n",
       "1981     AShipChandler        t2_h1z21   1641667821  rz6v6k             0  /r/PlantBasedDiet/comments/rz6v6k/mu...      1   I am about to start taking Chaga an...  PlantBasedDiet                    Mushrooms for Toddler  https://www.reddit.com/r/PlantBasedD...     True      1       0.00000          459               83         2.662758             1.924279"
      ]
     },
     "execution_count": 31,
     "metadata": {},
     "output_type": "execute_result"
    }
   ],
   "source": [
    "vegan[vegan['selftext'].str.contains('organic')]"
   ]
  },
  {
   "cell_type": "code",
   "execution_count": 32,
   "id": "cfc71aae-f681-49e7-9ca4-70287589cc07",
   "metadata": {},
   "outputs": [
    {
     "data": {
      "text/html": [
       "<div>\n",
       "<style scoped>\n",
       "    .dataframe tbody tr th:only-of-type {\n",
       "        vertical-align: middle;\n",
       "    }\n",
       "\n",
       "    .dataframe tbody tr th {\n",
       "        vertical-align: top;\n",
       "    }\n",
       "\n",
       "    .dataframe thead th {\n",
       "        text-align: right;\n",
       "    }\n",
       "</style>\n",
       "<table border=\"1\" class=\"dataframe\">\n",
       "  <thead>\n",
       "    <tr style=\"text-align: right;\">\n",
       "      <th></th>\n",
       "      <th>author</th>\n",
       "      <th>author_fullname</th>\n",
       "      <th>created_utc</th>\n",
       "      <th>id</th>\n",
       "      <th>num_comments</th>\n",
       "      <th>permalink</th>\n",
       "      <th>score</th>\n",
       "      <th>selftext</th>\n",
       "      <th>subreddit</th>\n",
       "      <th>title</th>\n",
       "      <th>url</th>\n",
       "      <th>is_self</th>\n",
       "      <th>label</th>\n",
       "      <th>log_comments</th>\n",
       "      <th>post_length</th>\n",
       "      <th>post_word_count</th>\n",
       "      <th>log_post_length</th>\n",
       "      <th>log_post_word_count</th>\n",
       "    </tr>\n",
       "  </thead>\n",
       "  <tbody>\n",
       "    <tr>\n",
       "      <th>19</th>\n",
       "      <td>One-Treacle-1037</td>\n",
       "      <td>t2_sqj9gbz7</td>\n",
       "      <td>1664595275</td>\n",
       "      <td>xskz52</td>\n",
       "      <td>1</td>\n",
       "      <td>/r/vegan/comments/xskz52/kings_guard...</td>\n",
       "      <td>1</td>\n",
       "      <td>After Queen Elizabeth ii passed away...</td>\n",
       "      <td>vegan</td>\n",
       "      <td>King’s Guards and Bearskins</td>\n",
       "      <td>https://www.reddit.com/r/vegan/comme...</td>\n",
       "      <td>True</td>\n",
       "      <td>0</td>\n",
       "      <td>0.30103</td>\n",
       "      <td>547</td>\n",
       "      <td>90</td>\n",
       "      <td>2.738781</td>\n",
       "      <td>1.959041</td>\n",
       "    </tr>\n",
       "    <tr>\n",
       "      <th>39</th>\n",
       "      <td>eruannie</td>\n",
       "      <td>t2_2dh1i584</td>\n",
       "      <td>1664624389</td>\n",
       "      <td>xst52a</td>\n",
       "      <td>1</td>\n",
       "      <td>/r/vegan/comments/xst52a/substitutes...</td>\n",
       "      <td>1</td>\n",
       "      <td>I’m used to eat Greek yogurt everyda...</td>\n",
       "      <td>vegan</td>\n",
       "      <td>Substitutes for yogurt?</td>\n",
       "      <td>https://www.reddit.com/r/vegan/comme...</td>\n",
       "      <td>True</td>\n",
       "      <td>0</td>\n",
       "      <td>0.30103</td>\n",
       "      <td>987</td>\n",
       "      <td>179</td>\n",
       "      <td>2.994757</td>\n",
       "      <td>2.255273</td>\n",
       "    </tr>\n",
       "    <tr>\n",
       "      <th>1307</th>\n",
       "      <td>tom_oakley</td>\n",
       "      <td>t2_1vy0sq3k</td>\n",
       "      <td>1656752372</td>\n",
       "      <td>vpnj32</td>\n",
       "      <td>0</td>\n",
       "      <td>/r/PlantBasedDiet/comments/vpnj32/ho...</td>\n",
       "      <td>1</td>\n",
       "      <td>So this isn't about trying to \"make ...</td>\n",
       "      <td>PlantBasedDiet</td>\n",
       "      <td>How else can I get a reluctant famil...</td>\n",
       "      <td>https://www.reddit.com/r/PlantBasedD...</td>\n",
       "      <td>True</td>\n",
       "      <td>1</td>\n",
       "      <td>0.00000</td>\n",
       "      <td>2621</td>\n",
       "      <td>450</td>\n",
       "      <td>3.418633</td>\n",
       "      <td>2.654177</td>\n",
       "    </tr>\n",
       "    <tr>\n",
       "      <th>1880</th>\n",
       "      <td>ptrichardson</td>\n",
       "      <td>t2_dyk98i</td>\n",
       "      <td>1644182949</td>\n",
       "      <td>sm84ih</td>\n",
       "      <td>7</td>\n",
       "      <td>/r/PlantBasedDiet/comments/sm84ih/to...</td>\n",
       "      <td>1</td>\n",
       "      <td>I'm starting tomorrow, so today was ...</td>\n",
       "      <td>PlantBasedDiet</td>\n",
       "      <td>To anyone who is doing or has done t...</td>\n",
       "      <td>https://www.reddit.com/r/PlantBasedD...</td>\n",
       "      <td>True</td>\n",
       "      <td>1</td>\n",
       "      <td>0.90309</td>\n",
       "      <td>672</td>\n",
       "      <td>126</td>\n",
       "      <td>2.828015</td>\n",
       "      <td>2.103804</td>\n",
       "    </tr>\n",
       "  </tbody>\n",
       "</table>\n",
       "</div>"
      ],
      "text/plain": [
       "                author author_fullname  created_utc      id  num_comments                                permalink  score                                 selftext       subreddit                                    title                                      url  is_self  label  log_comments  post_length  post_word_count  log_post_length  log_post_word_count\n",
       "19    One-Treacle-1037     t2_sqj9gbz7   1664595275  xskz52             1  /r/vegan/comments/xskz52/kings_guard...      1  After Queen Elizabeth ii passed away...           vegan              King’s Guards and Bearskins  https://www.reddit.com/r/vegan/comme...     True      0       0.30103          547               90         2.738781             1.959041\n",
       "39            eruannie     t2_2dh1i584   1664624389  xst52a             1  /r/vegan/comments/xst52a/substitutes...      1  I’m used to eat Greek yogurt everyda...           vegan                  Substitutes for yogurt?  https://www.reddit.com/r/vegan/comme...     True      0       0.30103          987              179         2.994757             2.255273\n",
       "1307        tom_oakley     t2_1vy0sq3k   1656752372  vpnj32             0  /r/PlantBasedDiet/comments/vpnj32/ho...      1  So this isn't about trying to \"make ...  PlantBasedDiet  How else can I get a reluctant famil...  https://www.reddit.com/r/PlantBasedD...     True      1       0.00000         2621              450         3.418633             2.654177\n",
       "1880      ptrichardson       t2_dyk98i   1644182949  sm84ih             7  /r/PlantBasedDiet/comments/sm84ih/to...      1  I'm starting tomorrow, so today was ...  PlantBasedDiet  To anyone who is doing or has done t...  https://www.reddit.com/r/PlantBasedD...     True      1       0.90309          672              126         2.828015             2.103804"
      ]
     },
     "execution_count": 32,
     "metadata": {},
     "output_type": "execute_result"
    }
   ],
   "source": [
    "vegan[vegan['selftext'].str.contains('sustainable')]"
   ]
  },
  {
   "cell_type": "code",
   "execution_count": 33,
   "id": "4fff5bc1-8ed1-4246-97fc-47a58167ab92",
   "metadata": {},
   "outputs": [
    {
     "data": {
      "text/html": [
       "<div>\n",
       "<style scoped>\n",
       "    .dataframe tbody tr th:only-of-type {\n",
       "        vertical-align: middle;\n",
       "    }\n",
       "\n",
       "    .dataframe tbody tr th {\n",
       "        vertical-align: top;\n",
       "    }\n",
       "\n",
       "    .dataframe thead th {\n",
       "        text-align: right;\n",
       "    }\n",
       "</style>\n",
       "<table border=\"1\" class=\"dataframe\">\n",
       "  <thead>\n",
       "    <tr style=\"text-align: right;\">\n",
       "      <th></th>\n",
       "      <th>author</th>\n",
       "      <th>author_fullname</th>\n",
       "      <th>created_utc</th>\n",
       "      <th>id</th>\n",
       "      <th>num_comments</th>\n",
       "      <th>permalink</th>\n",
       "      <th>score</th>\n",
       "      <th>selftext</th>\n",
       "      <th>subreddit</th>\n",
       "      <th>title</th>\n",
       "      <th>url</th>\n",
       "      <th>is_self</th>\n",
       "      <th>label</th>\n",
       "      <th>log_comments</th>\n",
       "      <th>post_length</th>\n",
       "      <th>post_word_count</th>\n",
       "      <th>log_post_length</th>\n",
       "      <th>log_post_word_count</th>\n",
       "    </tr>\n",
       "  </thead>\n",
       "  <tbody>\n",
       "    <tr>\n",
       "      <th>42</th>\n",
       "      <td>THothersall</td>\n",
       "      <td>t2_lt9dltw7</td>\n",
       "      <td>1664628143</td>\n",
       "      <td>xsuc9n</td>\n",
       "      <td>1</td>\n",
       "      <td>/r/vegan/comments/xsuc9n/do_you_acti...</td>\n",
       "      <td>1</td>\n",
       "      <td>Hi everyone.\\n\\nI  am currently in n...</td>\n",
       "      <td>vegan</td>\n",
       "      <td>Do you actively avoid foods containi...</td>\n",
       "      <td>https://www.reddit.com/r/vegan/comme...</td>\n",
       "      <td>True</td>\n",
       "      <td>0</td>\n",
       "      <td>0.30103</td>\n",
       "      <td>2837</td>\n",
       "      <td>432</td>\n",
       "      <td>3.453012</td>\n",
       "      <td>2.636488</td>\n",
       "    </tr>\n",
       "    <tr>\n",
       "      <th>179</th>\n",
       "      <td>centipawn</td>\n",
       "      <td>t2_smpwi6z</td>\n",
       "      <td>1662064958</td>\n",
       "      <td>x3i1bu</td>\n",
       "      <td>1</td>\n",
       "      <td>/r/vegan/comments/x3i1bu/this_articl...</td>\n",
       "      <td>1</td>\n",
       "      <td>I usually like opinion pieces in The...</td>\n",
       "      <td>vegan</td>\n",
       "      <td>This article has exactly one sentenc...</td>\n",
       "      <td>https://www.theguardian.com/commenti...</td>\n",
       "      <td>False</td>\n",
       "      <td>0</td>\n",
       "      <td>0.30103</td>\n",
       "      <td>380</td>\n",
       "      <td>58</td>\n",
       "      <td>2.580925</td>\n",
       "      <td>1.770852</td>\n",
       "    </tr>\n",
       "    <tr>\n",
       "      <th>292</th>\n",
       "      <td>RstyShackleford2</td>\n",
       "      <td>t2_69rjli0b</td>\n",
       "      <td>1659373111</td>\n",
       "      <td>wdmfs8</td>\n",
       "      <td>1</td>\n",
       "      <td>/r/vegan/comments/wdmfs8/exclusionar...</td>\n",
       "      <td>1</td>\n",
       "      <td>Hi, I was hoping to get some opinion...</td>\n",
       "      <td>vegan</td>\n",
       "      <td>Exclusionary Lifestyle</td>\n",
       "      <td>https://www.reddit.com/r/vegan/comme...</td>\n",
       "      <td>True</td>\n",
       "      <td>0</td>\n",
       "      <td>0.30103</td>\n",
       "      <td>2215</td>\n",
       "      <td>383</td>\n",
       "      <td>3.345570</td>\n",
       "      <td>2.584331</td>\n",
       "    </tr>\n",
       "    <tr>\n",
       "      <th>342</th>\n",
       "      <td>EchaleCandela</td>\n",
       "      <td>t2_oculekxi</td>\n",
       "      <td>1656667557</td>\n",
       "      <td>vowo55</td>\n",
       "      <td>1</td>\n",
       "      <td>/r/vegan/comments/vowo55/please_help...</td>\n",
       "      <td>1</td>\n",
       "      <td>So, I posted this [European citizens...</td>\n",
       "      <td>vegan</td>\n",
       "      <td>Please, help me respond as accuratel...</td>\n",
       "      <td>https://www.reddit.com/r/vegan/comme...</td>\n",
       "      <td>True</td>\n",
       "      <td>0</td>\n",
       "      <td>0.30103</td>\n",
       "      <td>2007</td>\n",
       "      <td>309</td>\n",
       "      <td>3.302764</td>\n",
       "      <td>2.491362</td>\n",
       "    </tr>\n",
       "    <tr>\n",
       "      <th>380</th>\n",
       "      <td>nu2allthis</td>\n",
       "      <td>t2_16pq48</td>\n",
       "      <td>1656687132</td>\n",
       "      <td>vp2og4</td>\n",
       "      <td>1</td>\n",
       "      <td>/r/vegan/comments/vp2og4/im_writing_...</td>\n",
       "      <td>1</td>\n",
       "      <td>Hello everyone!\\n\\nI'm currently wri...</td>\n",
       "      <td>vegan</td>\n",
       "      <td>I'm writing a piece on veganism and ...</td>\n",
       "      <td>https://www.reddit.com/r/vegan/comme...</td>\n",
       "      <td>True</td>\n",
       "      <td>0</td>\n",
       "      <td>0.30103</td>\n",
       "      <td>630</td>\n",
       "      <td>113</td>\n",
       "      <td>2.800029</td>\n",
       "      <td>2.056905</td>\n",
       "    </tr>\n",
       "    <tr>\n",
       "      <th>397</th>\n",
       "      <td>N1903</td>\n",
       "      <td>t2_otvu6yu9</td>\n",
       "      <td>1656694617</td>\n",
       "      <td>vp5hcs</td>\n",
       "      <td>1</td>\n",
       "      <td>/r/vegan/comments/vp5hcs/ethical_que...</td>\n",
       "      <td>1</td>\n",
       "      <td>If I have decided to forgo the use o...</td>\n",
       "      <td>vegan</td>\n",
       "      <td>Ethical question</td>\n",
       "      <td>https://www.reddit.com/r/vegan/comme...</td>\n",
       "      <td>True</td>\n",
       "      <td>0</td>\n",
       "      <td>0.30103</td>\n",
       "      <td>986</td>\n",
       "      <td>180</td>\n",
       "      <td>2.994317</td>\n",
       "      <td>2.257679</td>\n",
       "    </tr>\n",
       "    <tr>\n",
       "      <th>550</th>\n",
       "      <td>missblimah</td>\n",
       "      <td>t2_6p7158pu</td>\n",
       "      <td>1651410074</td>\n",
       "      <td>ufzfa5</td>\n",
       "      <td>1</td>\n",
       "      <td>/r/vegan/comments/ufzfa5/a_vision_of...</td>\n",
       "      <td>1</td>\n",
       "      <td>By most accounts, today we are rough...</td>\n",
       "      <td>vegan</td>\n",
       "      <td>A vision of power: what will the wor...</td>\n",
       "      <td>https://www.reddit.com/r/vegan/comme...</td>\n",
       "      <td>True</td>\n",
       "      <td>0</td>\n",
       "      <td>0.30103</td>\n",
       "      <td>3559</td>\n",
       "      <td>598</td>\n",
       "      <td>3.551450</td>\n",
       "      <td>2.777427</td>\n",
       "    </tr>\n",
       "    <tr>\n",
       "      <th>581</th>\n",
       "      <td>Admirable_Candle2404</td>\n",
       "      <td>t2_9guh9dv4</td>\n",
       "      <td>1651427328</td>\n",
       "      <td>ug58ql</td>\n",
       "      <td>1</td>\n",
       "      <td>/r/vegan/comments/ug58ql/vegan_impos...</td>\n",
       "      <td>1</td>\n",
       "      <td>I have been vegan for about 6 months...</td>\n",
       "      <td>vegan</td>\n",
       "      <td>Vegan Imposter Syndrome</td>\n",
       "      <td>https://www.reddit.com/r/vegan/comme...</td>\n",
       "      <td>True</td>\n",
       "      <td>0</td>\n",
       "      <td>0.30103</td>\n",
       "      <td>1331</td>\n",
       "      <td>247</td>\n",
       "      <td>3.124504</td>\n",
       "      <td>2.394452</td>\n",
       "    </tr>\n",
       "    <tr>\n",
       "      <th>833</th>\n",
       "      <td>Nice-Refrigerator524</td>\n",
       "      <td>t2_9czj0rf6</td>\n",
       "      <td>1643707879</td>\n",
       "      <td>shqyxz</td>\n",
       "      <td>0</td>\n",
       "      <td>/r/vegan/comments/shqyxz/vegan_beanies/</td>\n",
       "      <td>1</td>\n",
       "      <td>Hi everyone! I am looking for an adv...</td>\n",
       "      <td>vegan</td>\n",
       "      <td>Vegan beanies</td>\n",
       "      <td>https://www.reddit.com/r/vegan/comme...</td>\n",
       "      <td>True</td>\n",
       "      <td>0</td>\n",
       "      <td>0.00000</td>\n",
       "      <td>455</td>\n",
       "      <td>80</td>\n",
       "      <td>2.658965</td>\n",
       "      <td>1.908485</td>\n",
       "    </tr>\n",
       "    <tr>\n",
       "      <th>912</th>\n",
       "      <td>Henry_Every</td>\n",
       "      <td>t2_5l3y8p9o</td>\n",
       "      <td>1640999998</td>\n",
       "      <td>rt8685</td>\n",
       "      <td>0</td>\n",
       "      <td>/r/vegan/comments/rt8685/told_my_gir...</td>\n",
       "      <td>1</td>\n",
       "      <td>Might be a weird title but hear me o...</td>\n",
       "      <td>vegan</td>\n",
       "      <td>Told my girlfriend that I'm vegan to...</td>\n",
       "      <td>https://www.reddit.com/r/vegan/comme...</td>\n",
       "      <td>True</td>\n",
       "      <td>0</td>\n",
       "      <td>0.00000</td>\n",
       "      <td>1809</td>\n",
       "      <td>351</td>\n",
       "      <td>3.257679</td>\n",
       "      <td>2.546543</td>\n",
       "    </tr>\n",
       "    <tr>\n",
       "      <th>926</th>\n",
       "      <td>gh0stegrl</td>\n",
       "      <td>t2_4b8ztx82</td>\n",
       "      <td>1641011363</td>\n",
       "      <td>rtbgp5</td>\n",
       "      <td>0</td>\n",
       "      <td>/r/vegan/comments/rtbgp5/thoughts_on...</td>\n",
       "      <td>1</td>\n",
       "      <td>Personally, I’m vegan because of the...</td>\n",
       "      <td>vegan</td>\n",
       "      <td>Thoughts on eating your placenta?</td>\n",
       "      <td>https://www.reddit.com/r/vegan/comme...</td>\n",
       "      <td>True</td>\n",
       "      <td>0</td>\n",
       "      <td>0.00000</td>\n",
       "      <td>436</td>\n",
       "      <td>77</td>\n",
       "      <td>2.640481</td>\n",
       "      <td>1.892095</td>\n",
       "    </tr>\n",
       "    <tr>\n",
       "      <th>953</th>\n",
       "      <td>No_beef_here</td>\n",
       "      <td>t2_hmuisk4j</td>\n",
       "      <td>1641036526</td>\n",
       "      <td>rthnd5</td>\n",
       "      <td>0</td>\n",
       "      <td>/r/vegan/comments/rthnd5/veganurary_...</td>\n",
       "      <td>1</td>\n",
       "      <td>HNY to all.\\n\\nI was checking out [w...</td>\n",
       "      <td>vegan</td>\n",
       "      <td>Veganurary campaign lost some focus?</td>\n",
       "      <td>https://www.reddit.com/r/vegan/comme...</td>\n",
       "      <td>True</td>\n",
       "      <td>0</td>\n",
       "      <td>0.00000</td>\n",
       "      <td>870</td>\n",
       "      <td>150</td>\n",
       "      <td>2.940018</td>\n",
       "      <td>2.178977</td>\n",
       "    </tr>\n",
       "    <tr>\n",
       "      <th>1002</th>\n",
       "      <td>THothersall</td>\n",
       "      <td>t2_lt9dltw7</td>\n",
       "      <td>1664629358</td>\n",
       "      <td>xsurr9</td>\n",
       "      <td>0</td>\n",
       "      <td>/r/PlantBasedDiet/comments/xsurr9/do...</td>\n",
       "      <td>1</td>\n",
       "      <td>Hi everyone.\\n\\nI  am currently in n...</td>\n",
       "      <td>PlantBasedDiet</td>\n",
       "      <td>Do you actively avoid foods containi...</td>\n",
       "      <td>https://www.reddit.com/r/PlantBasedD...</td>\n",
       "      <td>True</td>\n",
       "      <td>1</td>\n",
       "      <td>0.00000</td>\n",
       "      <td>2922</td>\n",
       "      <td>432</td>\n",
       "      <td>3.465829</td>\n",
       "      <td>2.636488</td>\n",
       "    </tr>\n",
       "    <tr>\n",
       "      <th>1093</th>\n",
       "      <td>Oculus000</td>\n",
       "      <td>t2_wkg9q</td>\n",
       "      <td>1665253066</td>\n",
       "      <td>xyzmz9</td>\n",
       "      <td>0</td>\n",
       "      <td>/r/PlantBasedDiet/comments/xyzmz9/wf...</td>\n",
       "      <td>1</td>\n",
       "      <td>Hey Everyone,\\n\\nI can’t seem to fin...</td>\n",
       "      <td>PlantBasedDiet</td>\n",
       "      <td>WFPB for a non-cook?</td>\n",
       "      <td>https://www.reddit.com/r/PlantBasedD...</td>\n",
       "      <td>True</td>\n",
       "      <td>1</td>\n",
       "      <td>0.00000</td>\n",
       "      <td>1479</td>\n",
       "      <td>286</td>\n",
       "      <td>3.170262</td>\n",
       "      <td>2.457882</td>\n",
       "    </tr>\n",
       "    <tr>\n",
       "      <th>1148</th>\n",
       "      <td>NautySquid</td>\n",
       "      <td>t2_3c7xeumn</td>\n",
       "      <td>1662389492</td>\n",
       "      <td>x6i2l7</td>\n",
       "      <td>0</td>\n",
       "      <td>/r/PlantBasedDiet/comments/x6i2l7/go...</td>\n",
       "      <td>1</td>\n",
       "      <td>When I was in school, I went vegan b...</td>\n",
       "      <td>PlantBasedDiet</td>\n",
       "      <td>Going fully plant based again for th...</td>\n",
       "      <td>https://www.reddit.com/r/PlantBasedD...</td>\n",
       "      <td>True</td>\n",
       "      <td>1</td>\n",
       "      <td>0.00000</td>\n",
       "      <td>267</td>\n",
       "      <td>53</td>\n",
       "      <td>2.428135</td>\n",
       "      <td>1.732394</td>\n",
       "    </tr>\n",
       "    <tr>\n",
       "      <th>1175</th>\n",
       "      <td>ApprehensiveWill1</td>\n",
       "      <td>t2_5esrcf9o</td>\n",
       "      <td>1662584231</td>\n",
       "      <td>x8gadg</td>\n",
       "      <td>0</td>\n",
       "      <td>/r/PlantBasedDiet/comments/x8gadg/th...</td>\n",
       "      <td>1</td>\n",
       "      <td>#**Preface**\\n\\nI’m bringing forth t...</td>\n",
       "      <td>PlantBasedDiet</td>\n",
       "      <td>The Secret of the Alkaline Diet: Pre...</td>\n",
       "      <td>https://www.reddit.com/r/PlantBasedD...</td>\n",
       "      <td>True</td>\n",
       "      <td>1</td>\n",
       "      <td>0.00000</td>\n",
       "      <td>7080</td>\n",
       "      <td>946</td>\n",
       "      <td>3.850095</td>\n",
       "      <td>2.976350</td>\n",
       "    </tr>\n",
       "    <tr>\n",
       "      <th>1193</th>\n",
       "      <td>DetectiveFinch</td>\n",
       "      <td>t2_ygwah</td>\n",
       "      <td>1662728768</td>\n",
       "      <td>x9v1t8</td>\n",
       "      <td>0</td>\n",
       "      <td>/r/PlantBasedDiet/comments/x9v1t8/qu...</td>\n",
       "      <td>1</td>\n",
       "      <td>On an intellectual level, I complete...</td>\n",
       "      <td>PlantBasedDiet</td>\n",
       "      <td>Question how to actually make this a...</td>\n",
       "      <td>https://www.reddit.com/r/PlantBasedD...</td>\n",
       "      <td>True</td>\n",
       "      <td>1</td>\n",
       "      <td>0.00000</td>\n",
       "      <td>456</td>\n",
       "      <td>80</td>\n",
       "      <td>2.659916</td>\n",
       "      <td>1.908485</td>\n",
       "    </tr>\n",
       "  </tbody>\n",
       "</table>\n",
       "</div>"
      ],
      "text/plain": [
       "                    author author_fullname  created_utc      id  num_comments                                permalink  score                                 selftext       subreddit                                    title                                      url  is_self  label  log_comments  post_length  post_word_count  log_post_length  log_post_word_count\n",
       "42             THothersall     t2_lt9dltw7   1664628143  xsuc9n             1  /r/vegan/comments/xsuc9n/do_you_acti...      1  Hi everyone.\\n\\nI  am currently in n...           vegan  Do you actively avoid foods containi...  https://www.reddit.com/r/vegan/comme...     True      0       0.30103         2837              432         3.453012             2.636488\n",
       "179              centipawn      t2_smpwi6z   1662064958  x3i1bu             1  /r/vegan/comments/x3i1bu/this_articl...      1  I usually like opinion pieces in The...           vegan  This article has exactly one sentenc...  https://www.theguardian.com/commenti...    False      0       0.30103          380               58         2.580925             1.770852\n",
       "292       RstyShackleford2     t2_69rjli0b   1659373111  wdmfs8             1  /r/vegan/comments/wdmfs8/exclusionar...      1  Hi, I was hoping to get some opinion...           vegan                   Exclusionary Lifestyle  https://www.reddit.com/r/vegan/comme...     True      0       0.30103         2215              383         3.345570             2.584331\n",
       "342          EchaleCandela     t2_oculekxi   1656667557  vowo55             1  /r/vegan/comments/vowo55/please_help...      1  So, I posted this [European citizens...           vegan  Please, help me respond as accuratel...  https://www.reddit.com/r/vegan/comme...     True      0       0.30103         2007              309         3.302764             2.491362\n",
       "380             nu2allthis       t2_16pq48   1656687132  vp2og4             1  /r/vegan/comments/vp2og4/im_writing_...      1  Hello everyone!\\n\\nI'm currently wri...           vegan  I'm writing a piece on veganism and ...  https://www.reddit.com/r/vegan/comme...     True      0       0.30103          630              113         2.800029             2.056905\n",
       "397                  N1903     t2_otvu6yu9   1656694617  vp5hcs             1  /r/vegan/comments/vp5hcs/ethical_que...      1  If I have decided to forgo the use o...           vegan                         Ethical question  https://www.reddit.com/r/vegan/comme...     True      0       0.30103          986              180         2.994317             2.257679\n",
       "550             missblimah     t2_6p7158pu   1651410074  ufzfa5             1  /r/vegan/comments/ufzfa5/a_vision_of...      1  By most accounts, today we are rough...           vegan  A vision of power: what will the wor...  https://www.reddit.com/r/vegan/comme...     True      0       0.30103         3559              598         3.551450             2.777427\n",
       "581   Admirable_Candle2404     t2_9guh9dv4   1651427328  ug58ql             1  /r/vegan/comments/ug58ql/vegan_impos...      1  I have been vegan for about 6 months...           vegan                  Vegan Imposter Syndrome  https://www.reddit.com/r/vegan/comme...     True      0       0.30103         1331              247         3.124504             2.394452\n",
       "833   Nice-Refrigerator524     t2_9czj0rf6   1643707879  shqyxz             0  /r/vegan/comments/shqyxz/vegan_beanies/      1  Hi everyone! I am looking for an adv...           vegan                            Vegan beanies  https://www.reddit.com/r/vegan/comme...     True      0       0.00000          455               80         2.658965             1.908485\n",
       "912            Henry_Every     t2_5l3y8p9o   1640999998  rt8685             0  /r/vegan/comments/rt8685/told_my_gir...      1  Might be a weird title but hear me o...           vegan  Told my girlfriend that I'm vegan to...  https://www.reddit.com/r/vegan/comme...     True      0       0.00000         1809              351         3.257679             2.546543\n",
       "926              gh0stegrl     t2_4b8ztx82   1641011363  rtbgp5             0  /r/vegan/comments/rtbgp5/thoughts_on...      1  Personally, I’m vegan because of the...           vegan        Thoughts on eating your placenta?  https://www.reddit.com/r/vegan/comme...     True      0       0.00000          436               77         2.640481             1.892095\n",
       "953           No_beef_here     t2_hmuisk4j   1641036526  rthnd5             0  /r/vegan/comments/rthnd5/veganurary_...      1  HNY to all.\\n\\nI was checking out [w...           vegan     Veganurary campaign lost some focus?  https://www.reddit.com/r/vegan/comme...     True      0       0.00000          870              150         2.940018             2.178977\n",
       "1002           THothersall     t2_lt9dltw7   1664629358  xsurr9             0  /r/PlantBasedDiet/comments/xsurr9/do...      1  Hi everyone.\\n\\nI  am currently in n...  PlantBasedDiet  Do you actively avoid foods containi...  https://www.reddit.com/r/PlantBasedD...     True      1       0.00000         2922              432         3.465829             2.636488\n",
       "1093             Oculus000        t2_wkg9q   1665253066  xyzmz9             0  /r/PlantBasedDiet/comments/xyzmz9/wf...      1  Hey Everyone,\\n\\nI can’t seem to fin...  PlantBasedDiet                     WFPB for a non-cook?  https://www.reddit.com/r/PlantBasedD...     True      1       0.00000         1479              286         3.170262             2.457882\n",
       "1148            NautySquid     t2_3c7xeumn   1662389492  x6i2l7             0  /r/PlantBasedDiet/comments/x6i2l7/go...      1  When I was in school, I went vegan b...  PlantBasedDiet  Going fully plant based again for th...  https://www.reddit.com/r/PlantBasedD...     True      1       0.00000          267               53         2.428135             1.732394\n",
       "1175     ApprehensiveWill1     t2_5esrcf9o   1662584231  x8gadg             0  /r/PlantBasedDiet/comments/x8gadg/th...      1  #**Preface**\\n\\nI’m bringing forth t...  PlantBasedDiet  The Secret of the Alkaline Diet: Pre...  https://www.reddit.com/r/PlantBasedD...     True      1       0.00000         7080              946         3.850095             2.976350\n",
       "1193        DetectiveFinch        t2_ygwah   1662728768  x9v1t8             0  /r/PlantBasedDiet/comments/x9v1t8/qu...      1  On an intellectual level, I complete...  PlantBasedDiet  Question how to actually make this a...  https://www.reddit.com/r/PlantBasedD...     True      1       0.00000          456               80         2.659916             1.908485"
      ]
     },
     "execution_count": 33,
     "metadata": {},
     "output_type": "execute_result"
    }
   ],
   "source": [
    "vegan[vegan['selftext'].str.contains('environment')]"
   ]
  },
  {
   "cell_type": "code",
   "execution_count": 34,
   "id": "845d5c20-2f33-4977-b1d3-460b5a4f20d7",
   "metadata": {},
   "outputs": [],
   "source": [
    "# Instantiate Sentiment Intensity Analyzer\n",
    "sa = SentimentIntensityAnalyzer()"
   ]
  },
  {
   "cell_type": "code",
   "execution_count": 35,
   "id": "7bd1e13c-e0a9-464b-964a-cdc9c50dce2e",
   "metadata": {},
   "outputs": [
    {
     "name": "stdout",
     "output_type": "stream",
     "text": [
      "b'organic'\n",
      "b'environment'\n",
      "b'sustainable'\n",
      "b'sustainability'\n"
     ]
    }
   ],
   "source": [
    "# let's analyze sentiments around the following sustainability words\n",
    "\n",
    "sustainability = ['organic', 'environment', 'sustainable', 'sustainability']\n",
    "\n",
    "for word in sustainability:\n",
    "    result = word.encode('utf-8')\n",
    "    print(result)"
   ]
  },
  {
   "cell_type": "code",
   "execution_count": 55,
   "id": "912e0097-2335-4ccc-8bd6-0c70c2a7ff10",
   "metadata": {},
   "outputs": [],
   "source": [
    "# Calculate sentiment of sustainability.\n",
    "#sa.polarity_scores(result)"
   ]
  },
  {
   "cell_type": "markdown",
   "id": "37cf8071-2bc5-466f-858b-1d357dc7c022",
   "metadata": {},
   "source": [
    "## Set up X, y variables, train/test/split"
   ]
  },
  {
   "cell_type": "code",
   "execution_count": 38,
   "id": "a4b30151-c97d-45ac-8802-a714102a56fd",
   "metadata": {},
   "outputs": [],
   "source": [
    "X = vegan['selftext']\n",
    "y = vegan['label']"
   ]
  },
  {
   "cell_type": "code",
   "execution_count": 39,
   "id": "e4170878-8017-46e2-b2cb-a7e94316e084",
   "metadata": {},
   "outputs": [
    {
     "data": {
      "text/plain": [
       "1    0.500751\n",
       "0    0.499249\n",
       "Name: label, dtype: float64"
      ]
     },
     "execution_count": 39,
     "metadata": {},
     "output_type": "execute_result"
    }
   ],
   "source": [
    "# Check what we need to check in a classification problem.\n",
    "y.value_counts(normalize = True)"
   ]
  },
  {
   "cell_type": "code",
   "execution_count": 40,
   "id": "c9bc04fe-57c1-4262-8503-4f61c2c5b418",
   "metadata": {},
   "outputs": [],
   "source": [
    "# Split the data into the training and testing sets.\n",
    "X_train, X_test, y_train, y_test = train_test_split(X,\n",
    "                                                    y,\n",
    "                                                    stratify=y,\n",
    "                                                    random_state=42)"
   ]
  },
  {
   "cell_type": "markdown",
   "id": "02e3ea7e-722e-4376-a0b7-d37a3763c77e",
   "metadata": {},
   "source": [
    "## Analyze text data by countvectorizing, remove stop words, explore n-grams\n"
   ]
  },
  {
   "cell_type": "code",
   "execution_count": 41,
   "id": "5547c3c7-bb3a-45ee-b2fa-9d1c93035685",
   "metadata": {},
   "outputs": [],
   "source": [
    "# Instantiate a CountVectorizer.\n",
    "cvec = CountVectorizer(stop_words='english')"
   ]
  },
  {
   "cell_type": "code",
   "execution_count": 42,
   "id": "0d08315f-fbd2-4f40-bcf5-861a2a07cee9",
   "metadata": {},
   "outputs": [
    {
     "data": {
      "text/plain": [
       "CountVectorizer(stop_words='english')"
      ]
     },
     "execution_count": 42,
     "metadata": {},
     "output_type": "execute_result"
    }
   ],
   "source": [
    "# Fit the vectorizer on our corpus.\n",
    "cvec.fit(X_train)"
   ]
  },
  {
   "cell_type": "code",
   "execution_count": 43,
   "id": "0dcb8bd7-d23d-4a45-b98e-8e7f0bbc810c",
   "metadata": {},
   "outputs": [],
   "source": [
    "# Transform the corpus.\n",
    "X_train = cvec.transform(X_train)"
   ]
  },
  {
   "cell_type": "code",
   "execution_count": 44,
   "id": "23e43369-134e-4b38-9a98-484ef27f62ee",
   "metadata": {},
   "outputs": [],
   "source": [
    "X_test = cvec.transform(X_test)"
   ]
  },
  {
   "cell_type": "code",
   "execution_count": 45,
   "id": "377977c8-c4fb-4fec-b06f-dea141970937",
   "metadata": {},
   "outputs": [
    {
     "data": {
      "text/plain": [
       "(1497, 6274)"
      ]
     },
     "execution_count": 45,
     "metadata": {},
     "output_type": "execute_result"
    }
   ],
   "source": [
    "X_train.shape"
   ]
  },
  {
   "cell_type": "code",
   "execution_count": 46,
   "id": "2df6a143-36de-450d-9936-539e20dba2b9",
   "metadata": {},
   "outputs": [
    {
     "data": {
      "text/plain": [
       "matrix([[0, 0, 0, ..., 0, 0, 0],\n",
       "        [0, 0, 0, ..., 0, 0, 0],\n",
       "        [0, 0, 0, ..., 0, 0, 0],\n",
       "        ...,\n",
       "        [0, 0, 0, ..., 0, 0, 0],\n",
       "        [0, 0, 0, ..., 0, 0, 0],\n",
       "        [0, 0, 0, ..., 0, 0, 0]], dtype=int64)"
      ]
     },
     "execution_count": 46,
     "metadata": {},
     "output_type": "execute_result"
    }
   ],
   "source": [
    "X_train.todense()"
   ]
  },
  {
   "cell_type": "code",
   "execution_count": 47,
   "id": "ea612af0-605b-4216-bd19-c71aca525cfc",
   "metadata": {},
   "outputs": [
    {
     "name": "stderr",
     "output_type": "stream",
     "text": [
      "C:\\Users\\Owner\\anaconda3\\lib\\site-packages\\sklearn\\utils\\deprecation.py:87: FutureWarning: Function get_feature_names is deprecated; get_feature_names is deprecated in 1.0 and will be removed in 1.2. Please use get_feature_names_out instead.\n",
      "  warnings.warn(msg, category=FutureWarning)\n"
     ]
    }
   ],
   "source": [
    "# Convert X_train into a DataFrame.\n",
    "# We will not actually use this for modeling,\n",
    "# this is just to visualize what is happening\n",
    "\n",
    "X_train_df = pd.DataFrame(X_train.todense(), \n",
    "                          columns=cvec.get_feature_names())"
   ]
  },
  {
   "cell_type": "code",
   "execution_count": 48,
   "id": "d06c753a-c9fe-4f9f-8071-fc570671ae58",
   "metadata": {},
   "outputs": [
    {
     "data": {
      "text/html": [
       "<div>\n",
       "<style scoped>\n",
       "    .dataframe tbody tr th:only-of-type {\n",
       "        vertical-align: middle;\n",
       "    }\n",
       "\n",
       "    .dataframe tbody tr th {\n",
       "        vertical-align: top;\n",
       "    }\n",
       "\n",
       "    .dataframe thead th {\n",
       "        text-align: right;\n",
       "    }\n",
       "</style>\n",
       "<table border=\"1\" class=\"dataframe\">\n",
       "  <thead>\n",
       "    <tr style=\"text-align: right;\">\n",
       "      <th></th>\n",
       "      <th>000</th>\n",
       "      <th>01</th>\n",
       "      <th>025</th>\n",
       "      <th>028f81b28b20316bbcb9f537cebc29f2d24a02de</th>\n",
       "      <th>099482404932</th>\n",
       "      <th>0g</th>\n",
       "      <th>10</th>\n",
       "      <th>100</th>\n",
       "      <th>1000</th>\n",
       "      <th>10000</th>\n",
       "      <th>...</th>\n",
       "      <th>yuck</th>\n",
       "      <th>yukon</th>\n",
       "      <th>yup</th>\n",
       "      <th>zero</th>\n",
       "      <th>zhacai</th>\n",
       "      <th>zombie</th>\n",
       "      <th>zone</th>\n",
       "      <th>zooming</th>\n",
       "      <th>zoos</th>\n",
       "      <th>zucchini</th>\n",
       "    </tr>\n",
       "  </thead>\n",
       "  <tbody>\n",
       "    <tr>\n",
       "      <th>0</th>\n",
       "      <td>0</td>\n",
       "      <td>0</td>\n",
       "      <td>0</td>\n",
       "      <td>0</td>\n",
       "      <td>0</td>\n",
       "      <td>0</td>\n",
       "      <td>0</td>\n",
       "      <td>0</td>\n",
       "      <td>0</td>\n",
       "      <td>0</td>\n",
       "      <td>...</td>\n",
       "      <td>0</td>\n",
       "      <td>0</td>\n",
       "      <td>0</td>\n",
       "      <td>0</td>\n",
       "      <td>0</td>\n",
       "      <td>0</td>\n",
       "      <td>0</td>\n",
       "      <td>0</td>\n",
       "      <td>0</td>\n",
       "      <td>0</td>\n",
       "    </tr>\n",
       "    <tr>\n",
       "      <th>1</th>\n",
       "      <td>0</td>\n",
       "      <td>0</td>\n",
       "      <td>0</td>\n",
       "      <td>0</td>\n",
       "      <td>0</td>\n",
       "      <td>0</td>\n",
       "      <td>0</td>\n",
       "      <td>0</td>\n",
       "      <td>0</td>\n",
       "      <td>0</td>\n",
       "      <td>...</td>\n",
       "      <td>0</td>\n",
       "      <td>0</td>\n",
       "      <td>0</td>\n",
       "      <td>0</td>\n",
       "      <td>0</td>\n",
       "      <td>0</td>\n",
       "      <td>0</td>\n",
       "      <td>0</td>\n",
       "      <td>0</td>\n",
       "      <td>0</td>\n",
       "    </tr>\n",
       "    <tr>\n",
       "      <th>2</th>\n",
       "      <td>0</td>\n",
       "      <td>0</td>\n",
       "      <td>0</td>\n",
       "      <td>0</td>\n",
       "      <td>0</td>\n",
       "      <td>0</td>\n",
       "      <td>0</td>\n",
       "      <td>0</td>\n",
       "      <td>0</td>\n",
       "      <td>0</td>\n",
       "      <td>...</td>\n",
       "      <td>0</td>\n",
       "      <td>0</td>\n",
       "      <td>0</td>\n",
       "      <td>0</td>\n",
       "      <td>0</td>\n",
       "      <td>0</td>\n",
       "      <td>0</td>\n",
       "      <td>0</td>\n",
       "      <td>0</td>\n",
       "      <td>0</td>\n",
       "    </tr>\n",
       "    <tr>\n",
       "      <th>3</th>\n",
       "      <td>0</td>\n",
       "      <td>0</td>\n",
       "      <td>0</td>\n",
       "      <td>0</td>\n",
       "      <td>0</td>\n",
       "      <td>0</td>\n",
       "      <td>0</td>\n",
       "      <td>0</td>\n",
       "      <td>0</td>\n",
       "      <td>0</td>\n",
       "      <td>...</td>\n",
       "      <td>0</td>\n",
       "      <td>0</td>\n",
       "      <td>0</td>\n",
       "      <td>0</td>\n",
       "      <td>0</td>\n",
       "      <td>0</td>\n",
       "      <td>0</td>\n",
       "      <td>0</td>\n",
       "      <td>0</td>\n",
       "      <td>0</td>\n",
       "    </tr>\n",
       "    <tr>\n",
       "      <th>4</th>\n",
       "      <td>0</td>\n",
       "      <td>0</td>\n",
       "      <td>0</td>\n",
       "      <td>0</td>\n",
       "      <td>0</td>\n",
       "      <td>0</td>\n",
       "      <td>0</td>\n",
       "      <td>0</td>\n",
       "      <td>0</td>\n",
       "      <td>0</td>\n",
       "      <td>...</td>\n",
       "      <td>0</td>\n",
       "      <td>0</td>\n",
       "      <td>0</td>\n",
       "      <td>0</td>\n",
       "      <td>0</td>\n",
       "      <td>0</td>\n",
       "      <td>0</td>\n",
       "      <td>0</td>\n",
       "      <td>0</td>\n",
       "      <td>0</td>\n",
       "    </tr>\n",
       "  </tbody>\n",
       "</table>\n",
       "<p>5 rows × 6274 columns</p>\n",
       "</div>"
      ],
      "text/plain": [
       "   000  01  025  028f81b28b20316bbcb9f537cebc29f2d24a02de  099482404932  0g  10  100  1000  10000  ...  yuck  yukon  yup  zero  zhacai  zombie  zone  zooming  zoos  zucchini\n",
       "0    0   0    0                                        0              0   0   0    0     0      0  ...     0      0    0     0       0       0     0        0     0         0\n",
       "1    0   0    0                                        0              0   0   0    0     0      0  ...     0      0    0     0       0       0     0        0     0         0\n",
       "2    0   0    0                                        0              0   0   0    0     0      0  ...     0      0    0     0       0       0     0        0     0         0\n",
       "3    0   0    0                                        0              0   0   0    0     0      0  ...     0      0    0     0       0       0     0        0     0         0\n",
       "4    0   0    0                                        0              0   0   0    0     0      0  ...     0      0    0     0       0       0     0        0     0         0\n",
       "\n",
       "[5 rows x 6274 columns]"
      ]
     },
     "execution_count": 48,
     "metadata": {},
     "output_type": "execute_result"
    }
   ],
   "source": [
    "X_train_df.head()"
   ]
  },
  {
   "cell_type": "markdown",
   "id": "1f141f3c-004d-4456-97d9-5ad944878606",
   "metadata": {},
   "source": [
    "## Top StopWords in DataFrame\n",
    "\n",
    "Unfortunately it doesnt provide much insight\n"
   ]
  },
  {
   "cell_type": "code",
   "execution_count": 49,
   "id": "c254687a-3ef1-4908-bed7-2640ee6c224d",
   "metadata": {},
   "outputs": [
    {
     "data": {
      "image/png": "[encoded data removed]",
      "text/plain": [
       "<Figure size 720x576 with 1 Axes>"
      ]
     },
     "metadata": {
      "needs_background": "light"
     },
     "output_type": "display_data"
    }
   ],
   "source": [
    "# Plot top occuring words\n",
    "plt.figure(figsize=(10,8))\n",
    "plt.title('Top Occuring Words')\n",
    "X_train_df.sum().sort_values(ascending = False).head(10).plot(kind = 'barh');"
   ]
  },
  {
   "cell_type": "code",
   "execution_count": 56,
   "id": "5145b5c0-f000-44a0-af81-2100fe2573a3",
   "metadata": {},
   "outputs": [],
   "source": [
    "#df_test = pd.concat([y_test,X_test], axis = 1)"
   ]
  },
  {
   "cell_type": "code",
   "execution_count": 51,
   "id": "d036215f-2a2d-4559-b7ee-9f0ce3ed9135",
   "metadata": {},
   "outputs": [],
   "source": [
    "#df_train = pd.concat([y_train,X_train_df], axis = 1)"
   ]
  },
  {
   "cell_type": "code",
   "execution_count": 57,
   "id": "fc504b89-d5b7-40c5-9c4a-2acc2068b659",
   "metadata": {},
   "outputs": [],
   "source": [
    "#df_full = pd.concat([df_test, df_train], axis = 0)"
   ]
  },
  {
   "cell_type": "code",
   "execution_count": 58,
   "id": "22d0677a-c9a6-45f8-b443-5df63ec0fc39",
   "metadata": {},
   "outputs": [],
   "source": [
    "#df_full[df_full['label'] == 0]"
   ]
  },
  {
   "cell_type": "code",
   "execution_count": 59,
   "id": "6e5064e8-2168-4c98-9c3b-61e8eda0841f",
   "metadata": {},
   "outputs": [],
   "source": [
    "#df_full[df_full['label'] == 1]"
   ]
  },
  {
   "cell_type": "code",
   "execution_count": 41,
   "id": "39ebd181-5658-442f-b1f8-e83912ddba56",
   "metadata": {},
   "outputs": [
    {
     "data": {
      "text/plain": [
       "vegan      451\n",
       "removed    348\n",
       "like       304\n",
       "just       253\n",
       "ve         194\n",
       "eat        188\n",
       "don        183\n",
       "diet       169\n",
       "really     141\n",
       "based      138\n",
       "food       137\n",
       "plant      133\n",
       "want       129\n",
       "eating     128\n",
       "know       124\n",
       "feel       124\n",
       "https      124\n",
       "make       121\n",
       "animal     120\n",
       "time       117\n",
       "dtype: int64"
      ]
     },
     "execution_count": 41,
     "metadata": {},
     "output_type": "execute_result"
    }
   ],
   "source": [
    "X_train_df.sum().sort_values(ascending = False).head(20)"
   ]
  },
  {
   "cell_type": "markdown",
   "id": "dfb1848f-5994-46c1-b067-739ba0bbc84e",
   "metadata": {},
   "source": [
    "## Analyzing Bigrams in DataFrame..."
   ]
  },
  {
   "cell_type": "code",
   "execution_count": 64,
   "id": "f41c554e-bbad-4820-a842-6e874bea955b",
   "metadata": {},
   "outputs": [],
   "source": [
    "# Train Test Split\n",
    "X_train, X_test, y_train, y_test = train_test_split(X,\n",
    "                                                    y,\n",
    "                                                    stratify=y,\n",
    "                                                    random_state=42)"
   ]
  },
  {
   "cell_type": "code",
   "execution_count": 65,
   "id": "c01c6520-55ce-4c6a-adfd-d975bf435e6b",
   "metadata": {},
   "outputs": [],
   "source": [
    "# Instantiate (w/ ngrams)\n",
    "cvec = CountVectorizer(stop_words = 'english', ngram_range = (2,2))\n",
    "\n",
    "#Fit\n",
    "cvec.fit(X_train)\n",
    "\n",
    "#Transform\n",
    "X_train = cvec.transform(X_train)\n",
    "X_test = cvec.transform(X_test)"
   ]
  },
  {
   "cell_type": "code",
   "execution_count": 66,
   "id": "65cab210-1603-49ce-b3c5-860411c90a92",
   "metadata": {},
   "outputs": [
    {
     "name": "stderr",
     "output_type": "stream",
     "text": [
      "C:\\Users\\Owner\\anaconda3\\lib\\site-packages\\sklearn\\utils\\deprecation.py:87: FutureWarning: Function get_feature_names is deprecated; get_feature_names is deprecated in 1.0 and will be removed in 1.2. Please use get_feature_names_out instead.\n",
      "  warnings.warn(msg, category=FutureWarning)\n"
     ]
    }
   ],
   "source": [
    "# Convert X_train into a DataFrame.\n",
    "# We will not actually use this for modeling,\n",
    "# this is just to visualize what is happening\n",
    "\n",
    "X_train_df = pd.DataFrame(X_train.todense(), \n",
    "                          columns=cvec.get_feature_names())"
   ]
  },
  {
   "cell_type": "code",
   "execution_count": 67,
   "id": "cad44cfd-84c3-45d4-bafd-c29cff52c9df",
   "metadata": {},
   "outputs": [
    {
     "data": {
      "image/png": "[encoded data removed]",
      "text/plain": [
       "<Figure size 432x288 with 1 Axes>"
      ]
     },
     "metadata": {
      "needs_background": "light"
     },
     "output_type": "display_data"
    }
   ],
   "source": [
    "# Plot top occuring words\n",
    "# This plot shows the same and doesnt provide additional insights on top occuring words\n",
    "\n",
    "X_train_df.sum().sort_values(ascending = False).head(10).plot(kind = 'barh');"
   ]
  },
  {
   "cell_type": "markdown",
   "id": "d7a0ab20-a9dd-4aa8-8069-8e5dafff4cb4",
   "metadata": {},
   "source": [
    "# Section II :  Modeling"
   ]
  },
  {
   "cell_type": "code",
   "execution_count": 132,
   "id": "b70c8805-09d0-4d7c-b9bb-547a4ba71ce4",
   "metadata": {},
   "outputs": [],
   "source": [
    "# Redefine training and testing sets.\n",
    "X_train, X_test, y_train, y_test = train_test_split(X,\n",
    "                                                    y,\n",
    "                                                    stratify=y,\n",
    "                                                    random_state=42)"
   ]
  },
  {
   "cell_type": "code",
   "execution_count": 133,
   "id": "dcc16cba-241b-478d-9a37-81b757c3528d",
   "metadata": {},
   "outputs": [
    {
     "data": {
      "text/plain": [
       "1    0.5\n",
       "0    0.5\n",
       "Name: label, dtype: float64"
      ]
     },
     "execution_count": 133,
     "metadata": {},
     "output_type": "execute_result"
    }
   ],
   "source": [
    "# Baseline Accuracy\n",
    "y_test.value_counts(normalize = True)"
   ]
  },
  {
   "cell_type": "code",
   "execution_count": 134,
   "id": "9195165c-feb6-4ff1-b9a9-87b8dfc9807e",
   "metadata": {},
   "outputs": [],
   "source": [
    "# Seting a pipeline up with two stages:\n",
    "# 1. CountVectorizer (transformer)\n",
    "# 2. Multinomial Naive Bayes (estimator)\n",
    "\n",
    "pipe = Pipeline([\n",
    "    ('cvec', CountVectorizer()),\n",
    "    ('nb', MultinomialNB())\n",
    "])"
   ]
  },
  {
   "cell_type": "markdown",
   "id": "265ea9ae-cae7-4cfb-8fed-80e1c67d494e",
   "metadata": {},
   "source": [
    "## Model 1 : MultinomialNB"
   ]
  },
  {
   "cell_type": "code",
   "execution_count": 135,
   "id": "6f838619-a851-4c72-bd17-ea8ff80a39c9",
   "metadata": {},
   "outputs": [],
   "source": [
    "# Creating Model # 1 using the following values of hyperparameters:\n",
    "\n",
    "\n",
    "pipe_params = {\n",
    "    'cvec__max_features': [2500, 3500, 4500, 5500],\n",
    "    'cvec__min_df': [2, 3],\n",
    "    'cvec__max_df': [.9, .95],\n",
    "    'cvec__ngram_range': [(1, 1), (1, 2)]\n",
    "}"
   ]
  },
  {
   "cell_type": "code",
   "execution_count": 136,
   "id": "82917725-3db7-4d30-b2af-401ffa441509",
   "metadata": {},
   "outputs": [],
   "source": [
    "# Instantiate GridSearchCV.\n",
    "\n",
    "gs = GridSearchCV(pipe, # what object are we optimizing?\n",
    "                  param_grid = pipe_params, # what parameters values are we searching?\n",
    "                  cv = 5) # 5-fold cross-validation."
   ]
  },
  {
   "cell_type": "code",
   "execution_count": 137,
   "id": "8af5c8d4-2826-4571-b2ff-7192ef2600a6",
   "metadata": {},
   "outputs": [
    {
     "data": {
      "text/plain": [
       "GridSearchCV(cv=5,\n",
       "             estimator=Pipeline(steps=[('cvec', CountVectorizer()),\n",
       "                                       ('nb', MultinomialNB())]),\n",
       "             param_grid={'cvec__max_df': [0.9, 0.95],\n",
       "                         'cvec__max_features': [2500, 3500, 4500, 5500],\n",
       "                         'cvec__min_df': [2, 3],\n",
       "                         'cvec__ngram_range': [(1, 1), (1, 2)]})"
      ]
     },
     "execution_count": 137,
     "metadata": {},
     "output_type": "execute_result"
    }
   ],
   "source": [
    "# Fit GridSearch to training data.\n",
    "gs.fit(X_train, y_train)"
   ]
  },
  {
   "cell_type": "code",
   "execution_count": 138,
   "id": "f9b0193b-6ae6-4469-ab52-c1b4aeeda234",
   "metadata": {},
   "outputs": [
    {
     "data": {
      "text/plain": [
       "{'cvec__max_df': 0.9,\n",
       " 'cvec__max_features': 2500,\n",
       " 'cvec__min_df': 3,\n",
       " 'cvec__ngram_range': (1, 1)}"
      ]
     },
     "execution_count": 138,
     "metadata": {},
     "output_type": "execute_result"
    }
   ],
   "source": [
    "# Best Params for the best accuracy score\n",
    "\n",
    "gs.best_params_"
   ]
  },
  {
   "cell_type": "code",
   "execution_count": 139,
   "id": "e0093de7-7488-4c8d-b539-d7dead3c0693",
   "metadata": {},
   "outputs": [
    {
     "data": {
      "text/plain": [
       "0.6112224448897795"
      ]
     },
     "execution_count": 139,
     "metadata": {},
     "output_type": "execute_result"
    }
   ],
   "source": [
    "# Score model on training set.\n",
    "gs.score(X_train, y_train)"
   ]
  },
  {
   "cell_type": "code",
   "execution_count": 140,
   "id": "65116b28-abab-49ce-8f6c-7a742cc9a4e2",
   "metadata": {},
   "outputs": [
    {
     "data": {
      "text/plain": [
       "0.55"
      ]
     },
     "execution_count": 140,
     "metadata": {},
     "output_type": "execute_result"
    }
   ],
   "source": [
    "# Score model on testing set doesnt show much improvement in baseline score of 50%\n",
    "gs.score(X_test, y_test)"
   ]
  },
  {
   "cell_type": "markdown",
   "id": "42775d07-79d0-402a-a78c-e2c487d16818",
   "metadata": {},
   "source": [
    "## Model 2: TfidfVectorizer with MultinomialNB"
   ]
  },
  {
   "cell_type": "code",
   "execution_count": 80,
   "id": "33fe1c8c-5071-433d-a42c-be8af94b32ac",
   "metadata": {},
   "outputs": [],
   "source": [
    "X_train, X_test, y_train, y_test = train_test_split(X,\n",
    "                                                    y,\n",
    "                                                    stratify=y,\n",
    "                                                    random_state=42)"
   ]
  },
  {
   "cell_type": "code",
   "execution_count": 82,
   "id": "35d294ce-5a4c-4c72-b4f7-64bbbbfa9869",
   "metadata": {},
   "outputs": [],
   "source": [
    "# Adding tf-idf vectorizer to transform data and then applied Multinomial Naive Bayes (estimator)\n",
    "\n",
    "pipe_tvec = Pipeline([\n",
    "    ('tvec', TfidfVectorizer()),\n",
    "    ('nb', MultinomialNB())\n",
    "])"
   ]
  },
  {
   "cell_type": "code",
   "execution_count": 98,
   "id": "2b36dbb1-c877-4698-bdf8-95bed00a6c46",
   "metadata": {},
   "outputs": [],
   "source": [
    " # Used following values of hyperparameters:\n",
    "\n",
    "pipe_tvec_params = {\n",
    "    'tvec__max_features': [1_000, 2_000, 3_000, 4_000],\n",
    "    'tvec__stop_words': [None, 'english'],\n",
    "    'tvec__ngram_range': [(1, 1), (1, 2)]\n",
    "}"
   ]
  },
  {
   "cell_type": "code",
   "execution_count": 99,
   "id": "18e831e8-3d7c-43b2-8ee5-82485e04210e",
   "metadata": {},
   "outputs": [],
   "source": [
    "# Instantiate GridSearchCV.\n",
    "gs_tvec = GridSearchCV(pipe_tvec,\n",
    "                      param_grid = pipe_tvec_params,\n",
    "                      cv = 5)"
   ]
  },
  {
   "cell_type": "code",
   "execution_count": 100,
   "id": "3d70cc85-dee7-42a7-9474-cece607a70f0",
   "metadata": {},
   "outputs": [
    {
     "data": {
      "text/plain": [
       "GridSearchCV(cv=5,\n",
       "             estimator=Pipeline(steps=[('tvec', TfidfVectorizer()),\n",
       "                                       ('nb', MultinomialNB())]),\n",
       "             param_grid={'tvec__max_features': [1000, 2000, 3000, 4000],\n",
       "                         'tvec__ngram_range': [(1, 1), (1, 2)],\n",
       "                         'tvec__stop_words': [None, 'english']})"
      ]
     },
     "execution_count": 100,
     "metadata": {},
     "output_type": "execute_result"
    }
   ],
   "source": [
    "# Fit GridSearch to training data.\n",
    "gs_tvec.fit(X_train, y_train)"
   ]
  },
  {
   "cell_type": "code",
   "execution_count": 101,
   "id": "0c8aa273-1062-4a0f-8bc0-a8728874109f",
   "metadata": {},
   "outputs": [
    {
     "data": {
      "text/plain": [
       "0.6325985303941216"
      ]
     },
     "execution_count": 101,
     "metadata": {},
     "output_type": "execute_result"
    }
   ],
   "source": [
    "# Score model on training set.\n",
    "gs_tvec.score(X_train, y_train)"
   ]
  },
  {
   "cell_type": "code",
   "execution_count": 102,
   "id": "8b066ba9-38a1-4f35-9c87-7a6fa1779bc8",
   "metadata": {},
   "outputs": [
    {
     "data": {
      "text/plain": [
       "0.584"
      ]
     },
     "execution_count": 102,
     "metadata": {},
     "output_type": "execute_result"
    }
   ],
   "source": [
    "# Score model on testing set.\n",
    "gs_tvec.score(X_test, y_test)"
   ]
  },
  {
   "cell_type": "code",
   "execution_count": 103,
   "id": "f274499a-9b6a-4048-a597-52f7f8976f63",
   "metadata": {},
   "outputs": [
    {
     "data": {
      "text/plain": [
       "{'tvec__max_features': 3000,\n",
       " 'tvec__ngram_range': (1, 1),\n",
       " 'tvec__stop_words': 'english'}"
      ]
     },
     "execution_count": 103,
     "metadata": {},
     "output_type": "execute_result"
    }
   ],
   "source": [
    "# Best params\n",
    "gs_tvec.best_params_"
   ]
  },
  {
   "cell_type": "markdown",
   "id": "37ee0baa-6cca-4535-bdf9-09cd4abfc0cc",
   "metadata": {},
   "source": [
    "## Model 3: Random Forest "
   ]
  },
  {
   "cell_type": "code",
   "execution_count": 145,
   "id": "fe962539-aa7f-4547-9970-698f91367902",
   "metadata": {},
   "outputs": [],
   "source": [
    "# Train Test Split\n",
    "X_train, X_test, y_train, y_test = train_test_split(X,\n",
    "                                                    y,\n",
    "                                                    stratify=y,\n",
    "                                                    random_state=42)"
   ]
  },
  {
   "cell_type": "code",
   "execution_count": 146,
   "id": "5d5e6dee-50eb-4c7b-8b86-d18bd9d70241",
   "metadata": {},
   "outputs": [],
   "source": [
    "# Adding tf-idf vectorizer to transform data and then applied Random Forest Model (estimator)\n",
    "\n",
    "pipe_tvec = Pipeline([\n",
    "    ('tvec', TfidfVectorizer()),\n",
    "    ('rf', RandomForestClassifier())\n",
    "])"
   ]
  },
  {
   "cell_type": "code",
   "execution_count": 147,
   "id": "df59c447-1487-44b4-bbb1-8fa8cf3e5967",
   "metadata": {},
   "outputs": [],
   "source": [
    " # Used following values of hyperparameters:\n",
    "\n",
    "\n",
    "pipe_tvec_params = {\n",
    "    'tvec__max_features': [1_000, 2_000, 3_000, 4_000],\n",
    "    'tvec__stop_words': [None, 'english'],\n",
    "    'tvec__ngram_range': [(1, 1), (1, 2)]\n",
    "}"
   ]
  },
  {
   "cell_type": "code",
   "execution_count": 148,
   "id": "3cb031ef-1dc9-4e22-a7e8-98d1eddf08c6",
   "metadata": {},
   "outputs": [],
   "source": [
    "# Instantiate GridSearchCV.\n",
    "rf_tvec = GridSearchCV(pipe_tvec,\n",
    "                      param_grid = pipe_tvec_params,\n",
    "                      cv = 5)"
   ]
  },
  {
   "cell_type": "code",
   "execution_count": 149,
   "id": "5e8c7b2e-5dfc-4361-813d-8d613c96260d",
   "metadata": {},
   "outputs": [
    {
     "name": "stdout",
     "output_type": "stream",
     "text": [
      "0.6172352285395764\n"
     ]
    },
    {
     "data": {
      "text/plain": [
       "{'tvec__max_features': 1000,\n",
       " 'tvec__ngram_range': (1, 2),\n",
       " 'tvec__stop_words': 'english'}"
      ]
     },
     "execution_count": 149,
     "metadata": {},
     "output_type": "execute_result"
    }
   ],
   "source": [
    "rf_tvec.fit(X_train, y_train)\n",
    "print(rf_tvec.best_score_)\n",
    "rf_tvec.best_params_"
   ]
  },
  {
   "cell_type": "code",
   "execution_count": 150,
   "id": "69e9d721-79c4-4819-b392-cdccc95a8f6e",
   "metadata": {},
   "outputs": [
    {
     "data": {
      "text/plain": [
       "0.624"
      ]
     },
     "execution_count": 150,
     "metadata": {},
     "output_type": "execute_result"
    }
   ],
   "source": [
    "rf_tvec.score(X_test, y_test)"
   ]
  },
  {
   "cell_type": "code",
   "execution_count": 164,
   "id": "5892cb67-8c24-4dd6-885b-11b6331bca85",
   "metadata": {},
   "outputs": [],
   "source": [
    "pd.DataFrame(list(zip(X_train_df.columns, rf_tvec.best_estimator_['rf'].feature_importances_))).sort_values (by = 1, ascending = False)"
   ]
  },
  {
   "cell_type": "code",
   "execution_count": null,
   "id": "e03ed69f-3ace-4460-b6d4-1b5916b7a2d5",
   "metadata": {},
   "outputs": [],
   "source": []
  }
 ],
 "metadata": {
  "kernelspec": {
   "display_name": "Python 3 (ipykernel)",
   "language": "python",
   "name": "python3"
  },
  "language_info": {
   "codemirror_mode": {
    "name": "ipython",
    "version": 3
   },
   "file_extension": ".py",
   "mimetype": "text/x-python",
   "name": "python",
   "nbconvert_exporter": "python",
   "pygments_lexer": "ipython3",
   "version": "3.9.12"
  }
 },
 "nbformat": 4,
 "nbformat_minor": 5
}
