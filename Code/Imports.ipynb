{
 "cells": [
  {
   "cell_type": "code",
   "execution_count": 1,
   "id": "569c2f57-cefb-4606-8cd2-5045ef2624f3",
   "metadata": {},
   "outputs": [],
   "source": [
    "import numpy as np\n",
    "import pandas as pd\n",
    "import requests\n",
    "import time\n",
    "import datetime as dt\n",
    "import json"
   ]
  },
  {
   "cell_type": "markdown",
   "id": "417c8a27-6779-4482-9741-e67909d63afd",
   "metadata": {},
   "source": [
    "## Subreddit1 - Vegan (first)"
   ]
  },
  {
   "cell_type": "code",
   "execution_count": 3,
   "id": "3d651d29-51d0-4f9e-9419-b1aea093d585",
   "metadata": {},
   "outputs": [],
   "source": [
    "# Source: Katie Sylvia\n",
    "def get_pushshift_data(start, end, subreddit):\n",
    "    # URL\n",
    "    url = 'https://api.pushshift.io/reddit/search/submission'\n",
    "    # Add params\n",
    "    params = {'subreddit' : subreddit, \n",
    "              'size' : 100, \n",
    "              'after' : start, \n",
    "              'before' : end}\n",
    "     \n",
    "    # Get the data\n",
    "    res = requests.get(url, params)\n",
    "    # Convert the request into a list of dict objects\n",
    "    data = res.json()\n",
    "    # Go deeper\n",
    "    posts = data['data']\n",
    "    # Turn into DataFrame\n",
    "    df = pd.DataFrame(posts)\n",
    "    return df\n"
   ]
  },
  {
   "cell_type": "code",
   "execution_count": 15,
   "id": "e2b491a3-bf87-4c46-add2-581240c039f0",
   "metadata": {},
   "outputs": [],
   "source": [
    "vegan1 = get_pushshift_data('2022-10-01', '2022-10-26', 'Vegan')"
   ]
  },
  {
   "cell_type": "code",
   "execution_count": 16,
   "id": "bde3f4f6-17c4-48f1-9ec3-ec09de1a2965",
   "metadata": {},
   "outputs": [],
   "source": [
    "vegan2 = get_pushshift_data('2022-09-01', '2022-09-30', 'Vegan')"
   ]
  },
  {
   "cell_type": "code",
   "execution_count": 17,
   "id": "dfbaed1c-b818-451b-ad74-cff5be55aacf",
   "metadata": {},
   "outputs": [],
   "source": [
    "vegan3 = get_pushshift_data('2022-08-01', '2022-08-31', 'Vegan')"
   ]
  },
  {
   "cell_type": "code",
   "execution_count": 18,
   "id": "674fce4a-1d7a-406c-97ae-32887be80708",
   "metadata": {},
   "outputs": [],
   "source": [
    "vegan4 = get_pushshift_data('2022-07-01', '2022-07-31', 'Vegan')"
   ]
  },
  {
   "cell_type": "code",
   "execution_count": 19,
   "id": "c2abcd1e-4924-4812-8d52-3257649cc6c1",
   "metadata": {},
   "outputs": [],
   "source": [
    "vegan5 = get_pushshift_data('2022-06-01', '2022-06-30', 'Vegan')"
   ]
  },
  {
   "cell_type": "code",
   "execution_count": 20,
   "id": "61341748-5091-48f6-8bbf-bfefe882573e",
   "metadata": {},
   "outputs": [],
   "source": [
    "vegan6 = get_pushshift_data('2022-05-01', '2022-05-31', 'Vegan')"
   ]
  },
  {
   "cell_type": "code",
   "execution_count": 21,
   "id": "7acf00c7-15a8-4416-9325-73a1a19ba707",
   "metadata": {},
   "outputs": [],
   "source": [
    "vegan7 = get_pushshift_data('2022-04-01', '2022-04-30', 'Vegan')"
   ]
  },
  {
   "cell_type": "code",
   "execution_count": 22,
   "id": "ca72a797-3e52-4e12-b6d7-c31b8796564c",
   "metadata": {},
   "outputs": [],
   "source": [
    "vegan8 = get_pushshift_data('2022-03-01', '2022-03-30', 'Vegan')"
   ]
  },
  {
   "cell_type": "code",
   "execution_count": 23,
   "id": "904438ef-a3d3-4483-8f64-e6b69925b994",
   "metadata": {},
   "outputs": [],
   "source": [
    "vegan9 = get_pushshift_data('2022-02-01', '2022-02-26', 'Vegan')"
   ]
  },
  {
   "cell_type": "code",
   "execution_count": 24,
   "id": "142564fc-b62d-47b1-9059-2e8f3dbd7d3d",
   "metadata": {},
   "outputs": [],
   "source": [
    "vegan10 = get_pushshift_data('2022-01-01', '2022-01-31', 'Vegan')"
   ]
  },
  {
   "cell_type": "code",
   "execution_count": 25,
   "id": "731ccfb9-434a-491e-b2bb-30038dedae52",
   "metadata": {},
   "outputs": [],
   "source": [
    "df_vegan = pd.concat([vegan1, vegan2, vegan3, vegan4, vegan5, vegan6, vegan7, vegan8, vegan9, vegan10])"
   ]
  },
  {
   "cell_type": "code",
   "execution_count": 26,
   "id": "a6cfcad8-8777-416c-8c30-4469fb131589",
   "metadata": {
    "tags": []
   },
   "outputs": [
    {
     "data": {
      "text/html": [
       "<div>\n",
       "<style scoped>\n",
       "    .dataframe tbody tr th:only-of-type {\n",
       "        vertical-align: middle;\n",
       "    }\n",
       "\n",
       "    .dataframe tbody tr th {\n",
       "        vertical-align: top;\n",
       "    }\n",
       "\n",
       "    .dataframe thead th {\n",
       "        text-align: right;\n",
       "    }\n",
       "</style>\n",
       "<table border=\"1\" class=\"dataframe\">\n",
       "  <thead>\n",
       "    <tr style=\"text-align: right;\">\n",
       "      <th></th>\n",
       "      <th>all_awardings</th>\n",
       "      <th>allow_live_comments</th>\n",
       "      <th>author</th>\n",
       "      <th>author_flair_css_class</th>\n",
       "      <th>author_flair_richtext</th>\n",
       "      <th>author_flair_text</th>\n",
       "      <th>author_flair_type</th>\n",
       "      <th>author_fullname</th>\n",
       "      <th>author_is_blocked</th>\n",
       "      <th>author_patreon_flair</th>\n",
       "      <th>...</th>\n",
       "      <th>author_flair_text_color</th>\n",
       "      <th>poll_data</th>\n",
       "      <th>distinguished</th>\n",
       "      <th>author_flair_background_color</th>\n",
       "      <th>author_cakeday</th>\n",
       "      <th>media_metadata</th>\n",
       "      <th>gallery_data</th>\n",
       "      <th>call_to_action</th>\n",
       "      <th>category</th>\n",
       "      <th>banned_by</th>\n",
       "    </tr>\n",
       "  </thead>\n",
       "  <tbody>\n",
       "    <tr>\n",
       "      <th>0</th>\n",
       "      <td>[]</td>\n",
       "      <td>False</td>\n",
       "      <td>aIIisonmay</td>\n",
       "      <td>None</td>\n",
       "      <td>[]</td>\n",
       "      <td>None</td>\n",
       "      <td>text</td>\n",
       "      <td>t2_fioduy9y</td>\n",
       "      <td>False</td>\n",
       "      <td>False</td>\n",
       "      <td>...</td>\n",
       "      <td>NaN</td>\n",
       "      <td>NaN</td>\n",
       "      <td>NaN</td>\n",
       "      <td>NaN</td>\n",
       "      <td>NaN</td>\n",
       "      <td>NaN</td>\n",
       "      <td>NaN</td>\n",
       "      <td>NaN</td>\n",
       "      <td>NaN</td>\n",
       "      <td>NaN</td>\n",
       "    </tr>\n",
       "    <tr>\n",
       "      <th>1</th>\n",
       "      <td>[]</td>\n",
       "      <td>False</td>\n",
       "      <td>deepnek</td>\n",
       "      <td>None</td>\n",
       "      <td>[]</td>\n",
       "      <td>None</td>\n",
       "      <td>text</td>\n",
       "      <td>t2_4nemzh03</td>\n",
       "      <td>False</td>\n",
       "      <td>False</td>\n",
       "      <td>...</td>\n",
       "      <td>NaN</td>\n",
       "      <td>NaN</td>\n",
       "      <td>NaN</td>\n",
       "      <td>NaN</td>\n",
       "      <td>NaN</td>\n",
       "      <td>NaN</td>\n",
       "      <td>NaN</td>\n",
       "      <td>NaN</td>\n",
       "      <td>NaN</td>\n",
       "      <td>NaN</td>\n",
       "    </tr>\n",
       "    <tr>\n",
       "      <th>2</th>\n",
       "      <td>[]</td>\n",
       "      <td>False</td>\n",
       "      <td>FloNightG123</td>\n",
       "      <td>None</td>\n",
       "      <td>[]</td>\n",
       "      <td>None</td>\n",
       "      <td>text</td>\n",
       "      <td>t2_ggf8ss2i</td>\n",
       "      <td>False</td>\n",
       "      <td>False</td>\n",
       "      <td>...</td>\n",
       "      <td>NaN</td>\n",
       "      <td>NaN</td>\n",
       "      <td>NaN</td>\n",
       "      <td>NaN</td>\n",
       "      <td>NaN</td>\n",
       "      <td>NaN</td>\n",
       "      <td>NaN</td>\n",
       "      <td>NaN</td>\n",
       "      <td>NaN</td>\n",
       "      <td>NaN</td>\n",
       "    </tr>\n",
       "    <tr>\n",
       "      <th>3</th>\n",
       "      <td>[]</td>\n",
       "      <td>False</td>\n",
       "      <td>Thatcoonfella</td>\n",
       "      <td>None</td>\n",
       "      <td>[]</td>\n",
       "      <td>None</td>\n",
       "      <td>text</td>\n",
       "      <td>t2_qbozi</td>\n",
       "      <td>False</td>\n",
       "      <td>False</td>\n",
       "      <td>...</td>\n",
       "      <td>NaN</td>\n",
       "      <td>NaN</td>\n",
       "      <td>NaN</td>\n",
       "      <td>NaN</td>\n",
       "      <td>NaN</td>\n",
       "      <td>NaN</td>\n",
       "      <td>NaN</td>\n",
       "      <td>NaN</td>\n",
       "      <td>NaN</td>\n",
       "      <td>NaN</td>\n",
       "    </tr>\n",
       "    <tr>\n",
       "      <th>4</th>\n",
       "      <td>[]</td>\n",
       "      <td>False</td>\n",
       "      <td>tazzysnazzy</td>\n",
       "      <td>None</td>\n",
       "      <td>[]</td>\n",
       "      <td>None</td>\n",
       "      <td>text</td>\n",
       "      <td>t2_4dvyf</td>\n",
       "      <td>False</td>\n",
       "      <td>False</td>\n",
       "      <td>...</td>\n",
       "      <td>NaN</td>\n",
       "      <td>NaN</td>\n",
       "      <td>NaN</td>\n",
       "      <td>NaN</td>\n",
       "      <td>NaN</td>\n",
       "      <td>NaN</td>\n",
       "      <td>NaN</td>\n",
       "      <td>NaN</td>\n",
       "      <td>NaN</td>\n",
       "      <td>NaN</td>\n",
       "    </tr>\n",
       "    <tr>\n",
       "      <th>...</th>\n",
       "      <td>...</td>\n",
       "      <td>...</td>\n",
       "      <td>...</td>\n",
       "      <td>...</td>\n",
       "      <td>...</td>\n",
       "      <td>...</td>\n",
       "      <td>...</td>\n",
       "      <td>...</td>\n",
       "      <td>...</td>\n",
       "      <td>...</td>\n",
       "      <td>...</td>\n",
       "      <td>...</td>\n",
       "      <td>...</td>\n",
       "      <td>...</td>\n",
       "      <td>...</td>\n",
       "      <td>...</td>\n",
       "      <td>...</td>\n",
       "      <td>...</td>\n",
       "      <td>...</td>\n",
       "      <td>...</td>\n",
       "      <td>...</td>\n",
       "    </tr>\n",
       "    <tr>\n",
       "      <th>95</th>\n",
       "      <td>[]</td>\n",
       "      <td>False</td>\n",
       "      <td>hipster_rebbe</td>\n",
       "      <td>None</td>\n",
       "      <td>[]</td>\n",
       "      <td>None</td>\n",
       "      <td>text</td>\n",
       "      <td>t2_52hr3ult</td>\n",
       "      <td>False</td>\n",
       "      <td>False</td>\n",
       "      <td>...</td>\n",
       "      <td>NaN</td>\n",
       "      <td>NaN</td>\n",
       "      <td>NaN</td>\n",
       "      <td>NaN</td>\n",
       "      <td>NaN</td>\n",
       "      <td>NaN</td>\n",
       "      <td>NaN</td>\n",
       "      <td>NaN</td>\n",
       "      <td>NaN</td>\n",
       "      <td>NaN</td>\n",
       "    </tr>\n",
       "    <tr>\n",
       "      <th>96</th>\n",
       "      <td>[]</td>\n",
       "      <td>False</td>\n",
       "      <td>quickquestiondotcom</td>\n",
       "      <td>None</td>\n",
       "      <td>[]</td>\n",
       "      <td>None</td>\n",
       "      <td>text</td>\n",
       "      <td>t2_gqyrcywa</td>\n",
       "      <td>False</td>\n",
       "      <td>False</td>\n",
       "      <td>...</td>\n",
       "      <td>NaN</td>\n",
       "      <td>NaN</td>\n",
       "      <td>NaN</td>\n",
       "      <td>NaN</td>\n",
       "      <td>NaN</td>\n",
       "      <td>NaN</td>\n",
       "      <td>NaN</td>\n",
       "      <td>NaN</td>\n",
       "      <td>NaN</td>\n",
       "      <td>NaN</td>\n",
       "    </tr>\n",
       "    <tr>\n",
       "      <th>97</th>\n",
       "      <td>[]</td>\n",
       "      <td>False</td>\n",
       "      <td>quickquestiondotcom</td>\n",
       "      <td>None</td>\n",
       "      <td>[]</td>\n",
       "      <td>None</td>\n",
       "      <td>text</td>\n",
       "      <td>t2_gqyrcywa</td>\n",
       "      <td>False</td>\n",
       "      <td>False</td>\n",
       "      <td>...</td>\n",
       "      <td>NaN</td>\n",
       "      <td>{'is_prediction': False, 'options': [{'id': '1...</td>\n",
       "      <td>NaN</td>\n",
       "      <td>NaN</td>\n",
       "      <td>NaN</td>\n",
       "      <td>NaN</td>\n",
       "      <td>NaN</td>\n",
       "      <td>NaN</td>\n",
       "      <td>NaN</td>\n",
       "      <td>NaN</td>\n",
       "    </tr>\n",
       "    <tr>\n",
       "      <th>98</th>\n",
       "      <td>[]</td>\n",
       "      <td>False</td>\n",
       "      <td>Karens_Cooking_sucks</td>\n",
       "      <td>None</td>\n",
       "      <td>[]</td>\n",
       "      <td>None</td>\n",
       "      <td>text</td>\n",
       "      <td>t2_i1186vr4</td>\n",
       "      <td>False</td>\n",
       "      <td>False</td>\n",
       "      <td>...</td>\n",
       "      <td>NaN</td>\n",
       "      <td>NaN</td>\n",
       "      <td>NaN</td>\n",
       "      <td>NaN</td>\n",
       "      <td>NaN</td>\n",
       "      <td>NaN</td>\n",
       "      <td>NaN</td>\n",
       "      <td>NaN</td>\n",
       "      <td>NaN</td>\n",
       "      <td>NaN</td>\n",
       "    </tr>\n",
       "    <tr>\n",
       "      <th>99</th>\n",
       "      <td>[]</td>\n",
       "      <td>False</td>\n",
       "      <td>pikyoo</td>\n",
       "      <td>None</td>\n",
       "      <td>[]</td>\n",
       "      <td>None</td>\n",
       "      <td>text</td>\n",
       "      <td>t2_70w0tzmt</td>\n",
       "      <td>False</td>\n",
       "      <td>False</td>\n",
       "      <td>...</td>\n",
       "      <td>NaN</td>\n",
       "      <td>NaN</td>\n",
       "      <td>NaN</td>\n",
       "      <td>NaN</td>\n",
       "      <td>NaN</td>\n",
       "      <td>NaN</td>\n",
       "      <td>NaN</td>\n",
       "      <td>NaN</td>\n",
       "      <td>NaN</td>\n",
       "      <td>NaN</td>\n",
       "    </tr>\n",
       "  </tbody>\n",
       "</table>\n",
       "<p>1000 rows × 86 columns</p>\n",
       "</div>"
      ],
      "text/plain": [
       "   all_awardings  allow_live_comments                author  \\\n",
       "0             []                False            aIIisonmay   \n",
       "1             []                False               deepnek   \n",
       "2             []                False          FloNightG123   \n",
       "3             []                False         Thatcoonfella   \n",
       "4             []                False           tazzysnazzy   \n",
       "..           ...                  ...                   ...   \n",
       "95            []                False         hipster_rebbe   \n",
       "96            []                False   quickquestiondotcom   \n",
       "97            []                False   quickquestiondotcom   \n",
       "98            []                False  Karens_Cooking_sucks   \n",
       "99            []                False                pikyoo   \n",
       "\n",
       "   author_flair_css_class author_flair_richtext author_flair_text  \\\n",
       "0                    None                    []              None   \n",
       "1                    None                    []              None   \n",
       "2                    None                    []              None   \n",
       "3                    None                    []              None   \n",
       "4                    None                    []              None   \n",
       "..                    ...                   ...               ...   \n",
       "95                   None                    []              None   \n",
       "96                   None                    []              None   \n",
       "97                   None                    []              None   \n",
       "98                   None                    []              None   \n",
       "99                   None                    []              None   \n",
       "\n",
       "   author_flair_type author_fullname  author_is_blocked author_patreon_flair  \\\n",
       "0               text     t2_fioduy9y              False                False   \n",
       "1               text     t2_4nemzh03              False                False   \n",
       "2               text     t2_ggf8ss2i              False                False   \n",
       "3               text        t2_qbozi              False                False   \n",
       "4               text        t2_4dvyf              False                False   \n",
       "..               ...             ...                ...                  ...   \n",
       "95              text     t2_52hr3ult              False                False   \n",
       "96              text     t2_gqyrcywa              False                False   \n",
       "97              text     t2_gqyrcywa              False                False   \n",
       "98              text     t2_i1186vr4              False                False   \n",
       "99              text     t2_70w0tzmt              False                False   \n",
       "\n",
       "    ... author_flair_text_color  \\\n",
       "0   ...                     NaN   \n",
       "1   ...                     NaN   \n",
       "2   ...                     NaN   \n",
       "3   ...                     NaN   \n",
       "4   ...                     NaN   \n",
       "..  ...                     ...   \n",
       "95  ...                     NaN   \n",
       "96  ...                     NaN   \n",
       "97  ...                     NaN   \n",
       "98  ...                     NaN   \n",
       "99  ...                     NaN   \n",
       "\n",
       "                                            poll_data  distinguished  \\\n",
       "0                                                 NaN            NaN   \n",
       "1                                                 NaN            NaN   \n",
       "2                                                 NaN            NaN   \n",
       "3                                                 NaN            NaN   \n",
       "4                                                 NaN            NaN   \n",
       "..                                                ...            ...   \n",
       "95                                                NaN            NaN   \n",
       "96                                                NaN            NaN   \n",
       "97  {'is_prediction': False, 'options': [{'id': '1...            NaN   \n",
       "98                                                NaN            NaN   \n",
       "99                                                NaN            NaN   \n",
       "\n",
       "    author_flair_background_color  author_cakeday media_metadata gallery_data  \\\n",
       "0                             NaN             NaN            NaN          NaN   \n",
       "1                             NaN             NaN            NaN          NaN   \n",
       "2                             NaN             NaN            NaN          NaN   \n",
       "3                             NaN             NaN            NaN          NaN   \n",
       "4                             NaN             NaN            NaN          NaN   \n",
       "..                            ...             ...            ...          ...   \n",
       "95                            NaN             NaN            NaN          NaN   \n",
       "96                            NaN             NaN            NaN          NaN   \n",
       "97                            NaN             NaN            NaN          NaN   \n",
       "98                            NaN             NaN            NaN          NaN   \n",
       "99                            NaN             NaN            NaN          NaN   \n",
       "\n",
       "   call_to_action category  banned_by  \n",
       "0             NaN      NaN        NaN  \n",
       "1             NaN      NaN        NaN  \n",
       "2             NaN      NaN        NaN  \n",
       "3             NaN      NaN        NaN  \n",
       "4             NaN      NaN        NaN  \n",
       "..            ...      ...        ...  \n",
       "95            NaN      NaN        NaN  \n",
       "96            NaN      NaN        NaN  \n",
       "97            NaN      NaN        NaN  \n",
       "98            NaN      NaN        NaN  \n",
       "99            NaN      NaN        NaN  \n",
       "\n",
       "[1000 rows x 86 columns]"
      ]
     },
     "execution_count": 26,
     "metadata": {},
     "output_type": "execute_result"
    }
   ],
   "source": [
    "df_vegan"
   ]
  },
  {
   "cell_type": "code",
   "execution_count": 27,
   "id": "c1e43268-7aa2-4851-bb71-f1a33729b82b",
   "metadata": {},
   "outputs": [
    {
     "data": {
      "text/plain": [
       "<bound method NDFrame.head of                   author author_fullname  created_utc      id  num_comments  \\\n",
       "0             aIIisonmay     t2_fioduy9y   1664582453  xsgm3o             1   \n",
       "1                deepnek     t2_4nemzh03   1664582537  xsgn7o             0   \n",
       "2           FloNightG123     t2_ggf8ss2i   1664583242  xsgwhr             0   \n",
       "3          Thatcoonfella        t2_qbozi   1664584319  xsha31             0   \n",
       "4            tazzysnazzy        t2_4dvyf   1664584953  xshi92             1   \n",
       "..                   ...             ...          ...     ...           ...   \n",
       "95         hipster_rebbe     t2_52hr3ult   1641055471  rtn0rg             0   \n",
       "96   quickquestiondotcom     t2_gqyrcywa   1641055718  rtn3re             0   \n",
       "97   quickquestiondotcom     t2_gqyrcywa   1641056429  rtnci8             0   \n",
       "98  Karens_Cooking_sucks     t2_i1186vr4   1641056995  rtnjnp             0   \n",
       "99                pikyoo     t2_70w0tzmt   1641057040  rtnk7g             0   \n",
       "\n",
       "                                            permalink  score  \\\n",
       "0   /r/vegan/comments/xsgm3o/which_dairy_corporati...      1   \n",
       "1   /r/vegan/comments/xsgn7o/anyone_else_get_sick_...      1   \n",
       "2             /r/vegan/comments/xsgwhr/windy_lentils/      1   \n",
       "3   /r/vegan/comments/xsha31/vegan_chocolate_made_...      1   \n",
       "4   /r/vegan/comments/xshi92/omnis_are_running_out...      1   \n",
       "..                                                ...    ...   \n",
       "95    /r/vegan/comments/rtn0rg/he_was_only_a_gorilla/      1   \n",
       "96  /r/vegan/comments/rtn3re/stop_posting_pictures...      1   \n",
       "97  /r/vegan/comments/rtnci8/please_dont_vote_if_y...      1   \n",
       "98  /r/vegan/comments/rtnjnp/how_to_lose_weight_fo...      1   \n",
       "99  /r/vegan/comments/rtnk7g/eggs_are_good_for_women/      1   \n",
       "\n",
       "                                             selftext subreddit  \\\n",
       "0   Hello! I'm vegan and I'm making a Power Point ...     vegan   \n",
       "1                                           [removed]     vegan   \n",
       "2                                           [removed]     vegan   \n",
       "3                                                         vegan   \n",
       "4                                                         vegan   \n",
       "..                                                ...       ...   \n",
       "95                                                        vegan   \n",
       "96                                          [removed]     vegan   \n",
       "97  do you support veganuary? \\n\\nif i didn't incl...     vegan   \n",
       "98                                                        vegan   \n",
       "99  So I told my MIL I am going vegan recently, I ...     vegan   \n",
       "\n",
       "                                                title  \\\n",
       "0   Which dairy corporations are the most responsi...   \n",
       "1   Anyone else get sick to their stomach everytim...   \n",
       "2                                       Windy lentils   \n",
       "3   Vegan chocolate made in Keizer, Oregon. The pe...   \n",
       "4                    Omnis are running out of excuses   \n",
       "..                                                ...   \n",
       "95                         “He was ‘only’ a gorilla…”   \n",
       "96                      stop posting pictures of food   \n",
       "97  please don't vote if you are participating in ...   \n",
       "98  How to Lose Weight Forever: ) 2nd-Breakfast......   \n",
       "99                            Eggs are good for women   \n",
       "\n",
       "                                                  url  is_self  \n",
       "0   https://www.reddit.com/r/vegan/comments/xsgm3o...     True  \n",
       "1   https://www.reddit.com/r/vegan/comments/xsgn7o...     True  \n",
       "2   https://www.reddit.com/r/vegan/comments/xsgwhr...     True  \n",
       "3                 https://i.redd.it/ztrgoa7aa3r91.jpg    False  \n",
       "4   https://theveganherald.com/2022/09/muscle-prot...    False  \n",
       "..                                                ...      ...  \n",
       "95                https://i.redd.it/7e5dxauxu3981.jpg    False  \n",
       "96  https://www.reddit.com/r/vegan/comments/rtn3re...     True  \n",
       "97  https://www.reddit.com/r/vegan/comments/rtnci8...     True  \n",
       "98          https://m.youtube.com/watch?v=fkFJM3rcmLg    False  \n",
       "99  https://www.reddit.com/r/vegan/comments/rtnk7g...     True  \n",
       "\n",
       "[1000 rows x 12 columns]>"
      ]
     },
     "execution_count": 27,
     "metadata": {},
     "output_type": "execute_result"
    }
   ],
   "source": [
    "df_vegan = df_vegan[['author', 'author_fullname', 'created_utc', 'id', 'num_comments', 'permalink', \n",
    "                 'score', 'selftext', 'subreddit', 'title', 'url', 'is_self']]\n",
    "df_vegan.head"
   ]
  },
  {
   "cell_type": "code",
   "execution_count": 28,
   "id": "445bd144-4eb4-448b-b5cf-afcab8b67ac9",
   "metadata": {},
   "outputs": [
    {
     "data": {
      "text/plain": [
       "Index(['author', 'author_fullname', 'created_utc', 'id', 'num_comments',\n",
       "       'permalink', 'score', 'selftext', 'subreddit', 'title', 'url',\n",
       "       'is_self'],\n",
       "      dtype='object')"
      ]
     },
     "execution_count": 28,
     "metadata": {},
     "output_type": "execute_result"
    }
   ],
   "source": [
    "df_vegan.columns"
   ]
  },
  {
   "cell_type": "code",
   "execution_count": 29,
   "id": "ed999ff5-0888-413a-829f-be43f5bc66e4",
   "metadata": {},
   "outputs": [
    {
     "data": {
      "text/plain": [
       "(1000, 12)"
      ]
     },
     "execution_count": 29,
     "metadata": {},
     "output_type": "execute_result"
    }
   ],
   "source": [
    "df_vegan.shape"
   ]
  },
  {
   "cell_type": "code",
   "execution_count": 30,
   "id": "cae5f980-dacb-4a1e-a5f6-50cf02e697e2",
   "metadata": {},
   "outputs": [
    {
     "data": {
      "text/plain": [
       "<bound method NDFrame.describe of                   author author_fullname  created_utc      id  num_comments  \\\n",
       "0             aIIisonmay     t2_fioduy9y   1664582453  xsgm3o             1   \n",
       "1                deepnek     t2_4nemzh03   1664582537  xsgn7o             0   \n",
       "2           FloNightG123     t2_ggf8ss2i   1664583242  xsgwhr             0   \n",
       "3          Thatcoonfella        t2_qbozi   1664584319  xsha31             0   \n",
       "4            tazzysnazzy        t2_4dvyf   1664584953  xshi92             1   \n",
       "..                   ...             ...          ...     ...           ...   \n",
       "95         hipster_rebbe     t2_52hr3ult   1641055471  rtn0rg             0   \n",
       "96   quickquestiondotcom     t2_gqyrcywa   1641055718  rtn3re             0   \n",
       "97   quickquestiondotcom     t2_gqyrcywa   1641056429  rtnci8             0   \n",
       "98  Karens_Cooking_sucks     t2_i1186vr4   1641056995  rtnjnp             0   \n",
       "99                pikyoo     t2_70w0tzmt   1641057040  rtnk7g             0   \n",
       "\n",
       "                                            permalink  score  \\\n",
       "0   /r/vegan/comments/xsgm3o/which_dairy_corporati...      1   \n",
       "1   /r/vegan/comments/xsgn7o/anyone_else_get_sick_...      1   \n",
       "2             /r/vegan/comments/xsgwhr/windy_lentils/      1   \n",
       "3   /r/vegan/comments/xsha31/vegan_chocolate_made_...      1   \n",
       "4   /r/vegan/comments/xshi92/omnis_are_running_out...      1   \n",
       "..                                                ...    ...   \n",
       "95    /r/vegan/comments/rtn0rg/he_was_only_a_gorilla/      1   \n",
       "96  /r/vegan/comments/rtn3re/stop_posting_pictures...      1   \n",
       "97  /r/vegan/comments/rtnci8/please_dont_vote_if_y...      1   \n",
       "98  /r/vegan/comments/rtnjnp/how_to_lose_weight_fo...      1   \n",
       "99  /r/vegan/comments/rtnk7g/eggs_are_good_for_women/      1   \n",
       "\n",
       "                                             selftext subreddit  \\\n",
       "0   Hello! I'm vegan and I'm making a Power Point ...     vegan   \n",
       "1                                           [removed]     vegan   \n",
       "2                                           [removed]     vegan   \n",
       "3                                                         vegan   \n",
       "4                                                         vegan   \n",
       "..                                                ...       ...   \n",
       "95                                                        vegan   \n",
       "96                                          [removed]     vegan   \n",
       "97  do you support veganuary? \\n\\nif i didn't incl...     vegan   \n",
       "98                                                        vegan   \n",
       "99  So I told my MIL I am going vegan recently, I ...     vegan   \n",
       "\n",
       "                                                title  \\\n",
       "0   Which dairy corporations are the most responsi...   \n",
       "1   Anyone else get sick to their stomach everytim...   \n",
       "2                                       Windy lentils   \n",
       "3   Vegan chocolate made in Keizer, Oregon. The pe...   \n",
       "4                    Omnis are running out of excuses   \n",
       "..                                                ...   \n",
       "95                         “He was ‘only’ a gorilla…”   \n",
       "96                      stop posting pictures of food   \n",
       "97  please don't vote if you are participating in ...   \n",
       "98  How to Lose Weight Forever: ) 2nd-Breakfast......   \n",
       "99                            Eggs are good for women   \n",
       "\n",
       "                                                  url  is_self  \n",
       "0   https://www.reddit.com/r/vegan/comments/xsgm3o...     True  \n",
       "1   https://www.reddit.com/r/vegan/comments/xsgn7o...     True  \n",
       "2   https://www.reddit.com/r/vegan/comments/xsgwhr...     True  \n",
       "3                 https://i.redd.it/ztrgoa7aa3r91.jpg    False  \n",
       "4   https://theveganherald.com/2022/09/muscle-prot...    False  \n",
       "..                                                ...      ...  \n",
       "95                https://i.redd.it/7e5dxauxu3981.jpg    False  \n",
       "96  https://www.reddit.com/r/vegan/comments/rtn3re...     True  \n",
       "97  https://www.reddit.com/r/vegan/comments/rtnci8...     True  \n",
       "98          https://m.youtube.com/watch?v=fkFJM3rcmLg    False  \n",
       "99  https://www.reddit.com/r/vegan/comments/rtnk7g...     True  \n",
       "\n",
       "[1000 rows x 12 columns]>"
      ]
     },
     "execution_count": 30,
     "metadata": {},
     "output_type": "execute_result"
    }
   ],
   "source": [
    "df_vegan.describe"
   ]
  },
  {
   "cell_type": "code",
   "execution_count": 31,
   "id": "f853f27c-c881-4d25-91e8-adf64490781c",
   "metadata": {},
   "outputs": [
    {
     "data": {
      "text/plain": [
       "author             0\n",
       "author_fullname    3\n",
       "created_utc        0\n",
       "id                 0\n",
       "num_comments       0\n",
       "permalink          0\n",
       "score              0\n",
       "selftext           1\n",
       "subreddit          0\n",
       "title              0\n",
       "url                0\n",
       "is_self            0\n",
       "dtype: int64"
      ]
     },
     "execution_count": 31,
     "metadata": {},
     "output_type": "execute_result"
    }
   ],
   "source": [
    "df_vegan.isnull().sum()"
   ]
  },
  {
   "cell_type": "code",
   "execution_count": 49,
   "id": "f189a68c-fc6e-48b1-b952-e7f990f18dfb",
   "metadata": {},
   "outputs": [
    {
     "name": "stderr",
     "output_type": "stream",
     "text": [
      "C:\\Users\\Owner\\AppData\\Local\\Temp\\ipykernel_18964\\3108107402.py:1: SettingWithCopyWarning: \n",
      "A value is trying to be set on a copy of a slice from a DataFrame\n",
      "\n",
      "See the caveats in the documentation: https://pandas.pydata.org/pandas-docs/stable/user_guide/indexing.html#returning-a-view-versus-a-copy\n",
      "  df_vegan.dropna(inplace = True)\n"
     ]
    }
   ],
   "source": [
    "df_vegan.dropna(inplace = True)"
   ]
  },
  {
   "cell_type": "code",
   "execution_count": null,
   "id": "0aaadf58-2309-4bb3-b766-db241824a685",
   "metadata": {
    "tags": []
   },
   "outputs": [],
   "source": [
    "posts[0]"
   ]
  },
  {
   "cell_type": "markdown",
   "id": "75d91627-5684-4447-8a2c-3c9e8f8c0e8a",
   "metadata": {},
   "source": [
    "## Subreddit2 - PlantBasedDiet"
   ]
  },
  {
   "cell_type": "code",
   "execution_count": 32,
   "id": "253a85f5-2fbf-41fd-8c95-27caa2055e18",
   "metadata": {},
   "outputs": [],
   "source": [
    "pbd1 = get_pushshift_data('2022-10-01', '2022-10-26', 'PlantBasedDiet')"
   ]
  },
  {
   "cell_type": "code",
   "execution_count": 33,
   "id": "f3412c48-6ec9-4556-bf94-e6b96965b5f4",
   "metadata": {},
   "outputs": [],
   "source": [
    "pbd2 = get_pushshift_data('2022-09-01', '2022-09-30', 'PlantBasedDiet')"
   ]
  },
  {
   "cell_type": "code",
   "execution_count": 34,
   "id": "66b94701-9589-476f-acc5-fdc6deae6c24",
   "metadata": {},
   "outputs": [],
   "source": [
    "pbd3 = get_pushshift_data('2022-08-01', '2022-08-31', 'PlantBasedDiet')"
   ]
  },
  {
   "cell_type": "code",
   "execution_count": 35,
   "id": "ad5efdb6-1f76-40da-872b-fbcc2bd6032b",
   "metadata": {},
   "outputs": [],
   "source": [
    "pbd4 = get_pushshift_data('2022-07-01', '2022-07-31', 'PlantBasedDiet')"
   ]
  },
  {
   "cell_type": "code",
   "execution_count": 36,
   "id": "7b2a956c-e43a-4041-a8e1-cf5747f55b62",
   "metadata": {},
   "outputs": [],
   "source": [
    "pbd5 = get_pushshift_data('2022-06-01', '2022-06-30', 'PlantBasedDiet')"
   ]
  },
  {
   "cell_type": "code",
   "execution_count": 37,
   "id": "acb49c52-8687-4559-9212-24584ba82f37",
   "metadata": {},
   "outputs": [],
   "source": [
    "pbd6 = get_pushshift_data('2022-05-01', '2022-05-31', 'PlantBasedDiet')"
   ]
  },
  {
   "cell_type": "code",
   "execution_count": 38,
   "id": "67b6e59e-0824-40e6-bce9-7593fded7f5a",
   "metadata": {},
   "outputs": [],
   "source": [
    "pbd7 = get_pushshift_data('2022-04-01', '2022-04-30', 'PlantBasedDiet')"
   ]
  },
  {
   "cell_type": "code",
   "execution_count": 39,
   "id": "4a330919-c6e9-4780-be88-a300a9d155e1",
   "metadata": {},
   "outputs": [],
   "source": [
    "pbd8 = get_pushshift_data('2022-03-01', '2022-03-30', 'PlantBasedDiet')"
   ]
  },
  {
   "cell_type": "code",
   "execution_count": 40,
   "id": "5a5f45a6-9303-42d7-9b28-398fd4dca1a7",
   "metadata": {},
   "outputs": [],
   "source": [
    "pbd9 = get_pushshift_data('2022-02-01', '2022-02-26', 'PlantBasedDiet')"
   ]
  },
  {
   "cell_type": "code",
   "execution_count": 41,
   "id": "29635140-649a-4bec-a896-f5d3a4a52be4",
   "metadata": {},
   "outputs": [],
   "source": [
    "pbd10 = get_pushshift_data('2022-01-01', '2022-01-31', 'PlantBasedDiet')"
   ]
  },
  {
   "cell_type": "code",
   "execution_count": 42,
   "id": "063036ac-62b3-4aaf-9f2e-71140accf9ae",
   "metadata": {},
   "outputs": [],
   "source": [
    "df_pbd = pd.concat([pbd1, pbd2, pbd3, pbd4, pbd5, pbd6, pbd7, pbd8, pbd9, pbd10])"
   ]
  },
  {
   "cell_type": "code",
   "execution_count": 44,
   "id": "f04f85d7-b5bd-4c9d-ada4-1da9ed1196c3",
   "metadata": {},
   "outputs": [
    {
     "data": {
      "text/plain": [
       "<bound method NDFrame.head of                   author author_fullname  created_utc      id  num_comments  \\\n",
       "0        snowfallingslow     t2_409ky0cq   1664589147  xsiy0b             0   \n",
       "1          Beau_zwitsers     t2_sz7cnwii   1664615080  xsqkqc             0   \n",
       "2     Hotpooriz_Vegan_gf     t2_jmrryfy4   1664617246  xsr5mu             0   \n",
       "3        Helpmeimtired17     t2_n7xlbwoe   1664621350  xssa96             0   \n",
       "4           FoldsPerfect     t2_38472xu4   1664628688  xsuj1l             0   \n",
       "..                   ...             ...          ...     ...           ...   \n",
       "95  RefrigeratorVivid239     t2_8shmby4u   1641741992  rzu0gp             0   \n",
       "96        ShadesofNormal        t2_9rpni   1641747221  rzvuyw             0   \n",
       "97             trufoobar     t2_2w1qg6j3   1641753212  rzy33b             0   \n",
       "98        WookieeOokiees     t2_i3voty3n   1641761437  s016w6             0   \n",
       "99          VulgarWander      t2_2ntite2   1641762752  s01p8n             0   \n",
       "\n",
       "                                            permalink  score  \\\n",
       "0   /r/PlantBasedDiet/comments/xsiy0b/best_way_to_...      1   \n",
       "1   /r/PlantBasedDiet/comments/xsqkqc/1_month_vega...      1   \n",
       "2   /r/PlantBasedDiet/comments/xsr5mu/cheesy_bread...      1   \n",
       "3   /r/PlantBasedDiet/comments/xssa96/savory_break...      1   \n",
       "4   /r/PlantBasedDiet/comments/xsuj1l/im_so_close_...      1   \n",
       "..                                                ...    ...   \n",
       "95  /r/PlantBasedDiet/comments/rzu0gp/diabetes_and...      1   \n",
       "96  /r/PlantBasedDiet/comments/rzvuyw/pumpkin_soup...      1   \n",
       "97  /r/PlantBasedDiet/comments/rzy33b/breakfast_sc...      1   \n",
       "98  /r/PlantBasedDiet/comments/s016w6/plantbased_d...      1   \n",
       "99  /r/PlantBasedDiet/comments/s01p8n/first_day_ou...      1   \n",
       "\n",
       "                                             selftext       subreddit  \\\n",
       "0   I know it’s odd but I can’t handle the texture...  PlantBasedDiet   \n",
       "1                                           [removed]  PlantBasedDiet   \n",
       "2                                                      PlantBasedDiet   \n",
       "3   I really really love savory breakfast. And I l...  PlantBasedDiet   \n",
       "4   So how am I supposed to get over a hundred gra...  PlantBasedDiet   \n",
       "..                                                ...             ...   \n",
       "95                                          [removed]  PlantBasedDiet   \n",
       "96                                                     PlantBasedDiet   \n",
       "97                                                     PlantBasedDiet   \n",
       "98                                          [removed]  PlantBasedDiet   \n",
       "99                                                     PlantBasedDiet   \n",
       "\n",
       "                                                title  \\\n",
       "0            Best way to eat fruits other than whole?   \n",
       "1                             1 month vegan challenge   \n",
       "2   Cheesy bread pizza with flour cheese , Broccol...   \n",
       "3                                    Savory breakfast   \n",
       "4             I’m so close to rage quitting this diet   \n",
       "..                                                ...   \n",
       "95                         Diabetes and Porridge Oats   \n",
       "96  Pumpkin soup and one-pot lentils and quinoa. G...   \n",
       "97                                Breakfast Scramble!   \n",
       "98                    Plant-based dissertation survey   \n",
       "99  First day out here. Decided to make a vegan bu...   \n",
       "\n",
       "                                                  url  is_self  \n",
       "0   https://www.reddit.com/r/PlantBasedDiet/commen...     True  \n",
       "1   https://www.reddit.com/r/PlantBasedDiet/commen...     True  \n",
       "2                        https://youtu.be/hTcKJi1KweY    False  \n",
       "3   https://www.reddit.com/r/PlantBasedDiet/commen...     True  \n",
       "4   https://www.reddit.com/r/PlantBasedDiet/commen...     True  \n",
       "..                                                ...      ...  \n",
       "95  https://www.reddit.com/r/PlantBasedDiet/commen...     True  \n",
       "96                https://i.redd.it/4hyvks0vzoa81.jpg    False  \n",
       "97              https://www.reddit.com/gallery/rzy33b    False  \n",
       "98  https://www.reddit.com/r/PlantBasedDiet/commen...     True  \n",
       "99                https://i.redd.it/lj8bl1v1aqa81.jpg    False  \n",
       "\n",
       "[1000 rows x 12 columns]>"
      ]
     },
     "execution_count": 44,
     "metadata": {},
     "output_type": "execute_result"
    }
   ],
   "source": [
    "df_pbd = df_pbd[['author', 'author_fullname', 'created_utc', 'id', 'num_comments', 'permalink', \n",
    "                 'score', 'selftext', 'subreddit', 'title', 'url', 'is_self']]\n",
    "df_pbd.head"
   ]
  },
  {
   "cell_type": "code",
   "execution_count": 45,
   "id": "059b7068-60bc-46c0-8d4b-4b21f2c86c47",
   "metadata": {},
   "outputs": [
    {
     "data": {
      "text/plain": [
       "(1000, 12)"
      ]
     },
     "execution_count": 45,
     "metadata": {},
     "output_type": "execute_result"
    }
   ],
   "source": [
    "df_pbd.shape"
   ]
  },
  {
   "cell_type": "code",
   "execution_count": 46,
   "id": "718f0893-7b7d-4fef-8604-a33530cdf137",
   "metadata": {},
   "outputs": [
    {
     "data": {
      "text/plain": [
       "author             0\n",
       "author_fullname    0\n",
       "created_utc        0\n",
       "id                 0\n",
       "num_comments       0\n",
       "permalink          0\n",
       "score              0\n",
       "selftext           0\n",
       "subreddit          0\n",
       "title              0\n",
       "url                0\n",
       "is_self            0\n",
       "dtype: int64"
      ]
     },
     "execution_count": 46,
     "metadata": {},
     "output_type": "execute_result"
    }
   ],
   "source": [
    "df_pbd.isnull().sum()"
   ]
  },
  {
   "cell_type": "code",
   "execution_count": 50,
   "id": "3d67dabc-fcf3-4bb2-87d3-42156ffbc6f8",
   "metadata": {},
   "outputs": [],
   "source": [
    "vegan_all = pd.concat([df_vegan, df_pbd])"
   ]
  },
  {
   "cell_type": "code",
   "execution_count": 56,
   "id": "aa1b16b4-252d-4126-859e-83e4778fd216",
   "metadata": {},
   "outputs": [],
   "source": [
    "vegan_all.to_csv('../Data/vegan_all.csv', index=False)"
   ]
  },
  {
   "cell_type": "code",
   "execution_count": null,
   "id": "950f06a8-6bfd-4430-aee0-425a69a95648",
   "metadata": {},
   "outputs": [],
   "source": []
  },
  {
   "cell_type": "code",
   "execution_count": null,
   "id": "d42bb762-7f08-4a03-8282-c3bebd22abc7",
   "metadata": {},
   "outputs": [],
   "source": []
  },
  {
   "cell_type": "code",
   "execution_count": null,
   "id": "7209f106-c69b-48f4-b194-b4ee456220d2",
   "metadata": {},
   "outputs": [],
   "source": []
  },
  {
   "cell_type": "code",
   "execution_count": null,
   "id": "1e714cad-0009-4dfc-bab4-925a7f9fbad1",
   "metadata": {},
   "outputs": [],
   "source": []
  },
  {
   "cell_type": "code",
   "execution_count": null,
   "id": "5a1f1787-c662-4350-bae1-ef6450c98ff9",
   "metadata": {},
   "outputs": [],
   "source": []
  },
  {
   "cell_type": "code",
   "execution_count": null,
   "id": "ac6a66aa-7174-4a20-a70a-e67d5d2231cc",
   "metadata": {},
   "outputs": [],
   "source": []
  },
  {
   "cell_type": "code",
   "execution_count": null,
   "id": "a73e37c2-3520-4d0a-84fa-59cdcdc65d70",
   "metadata": {},
   "outputs": [],
   "source": []
  },
  {
   "cell_type": "code",
   "execution_count": null,
   "id": "52c182f8-0f07-4895-8727-a9be562bf0c2",
   "metadata": {},
   "outputs": [],
   "source": []
  },
  {
   "cell_type": "code",
   "execution_count": null,
   "id": "d5b3cf96-0bee-4f77-800d-c4f6037f8ccb",
   "metadata": {},
   "outputs": [],
   "source": []
  },
  {
   "cell_type": "code",
   "execution_count": null,
   "id": "fc9ee4c2-bc6a-4ee8-8a6e-6c56ec7ec8bc",
   "metadata": {},
   "outputs": [],
   "source": []
  },
  {
   "cell_type": "code",
   "execution_count": null,
   "id": "f896a41f-6051-4803-8ec3-acc31ce876b9",
   "metadata": {},
   "outputs": [],
   "source": []
  },
  {
   "cell_type": "code",
   "execution_count": null,
   "id": "804d0af8-d38f-4ea0-9ebe-b07b024fe04c",
   "metadata": {},
   "outputs": [],
   "source": []
  },
  {
   "cell_type": "code",
   "execution_count": null,
   "id": "c4fc3d64-89bb-4d96-ac12-d88e6173e1a4",
   "metadata": {},
   "outputs": [],
   "source": []
  },
  {
   "cell_type": "code",
   "execution_count": null,
   "id": "4f8b4820-65e6-49d0-97ef-2d619f885f2d",
   "metadata": {},
   "outputs": [],
   "source": []
  },
  {
   "cell_type": "code",
   "execution_count": null,
   "id": "d869370a-49a7-48dc-b1f8-05dba1b46c97",
   "metadata": {},
   "outputs": [],
   "source": []
  },
  {
   "cell_type": "code",
   "execution_count": null,
   "id": "fbe3ae34-19a6-4706-9aa6-702fbb6c9fec",
   "metadata": {},
   "outputs": [],
   "source": []
  },
  {
   "cell_type": "code",
   "execution_count": null,
   "id": "d3ad522f-2abc-4f55-ab6c-b85e783da625",
   "metadata": {},
   "outputs": [],
   "source": []
  },
  {
   "cell_type": "code",
   "execution_count": null,
   "id": "03bcbf9a-86b2-41e5-b856-8e4a01482659",
   "metadata": {},
   "outputs": [],
   "source": []
  },
  {
   "cell_type": "code",
   "execution_count": null,
   "id": "07f375fe-7d55-4f27-ba85-c2b4e2d5da45",
   "metadata": {},
   "outputs": [],
   "source": []
  },
  {
   "cell_type": "code",
   "execution_count": null,
   "id": "e49fe7ec-8325-4703-a7a4-a713f86dbd88",
   "metadata": {},
   "outputs": [],
   "source": []
  },
  {
   "cell_type": "code",
   "execution_count": null,
   "id": "d600c0ac-a62b-4447-b9b4-5387042183e7",
   "metadata": {},
   "outputs": [],
   "source": []
  },
  {
   "cell_type": "code",
   "execution_count": null,
   "id": "6d58ce14-a268-4a90-848b-d41f7f9e57d7",
   "metadata": {},
   "outputs": [],
   "source": []
  },
  {
   "cell_type": "code",
   "execution_count": null,
   "id": "aecd5429-3470-4fa8-aa91-80180f3b4726",
   "metadata": {},
   "outputs": [],
   "source": []
  },
  {
   "cell_type": "code",
   "execution_count": null,
   "id": "42958fb1-d4ff-4d59-80cd-6fbccf632e99",
   "metadata": {},
   "outputs": [],
   "source": []
  },
  {
   "cell_type": "code",
   "execution_count": null,
   "id": "222e2a3f-8b63-426d-9ca5-d3abfd7adc66",
   "metadata": {},
   "outputs": [],
   "source": []
  },
  {
   "cell_type": "code",
   "execution_count": null,
   "id": "73e5a321-5aea-44a2-8d04-277f7e09e08a",
   "metadata": {},
   "outputs": [],
   "source": []
  },
  {
   "cell_type": "code",
   "execution_count": null,
   "id": "f18baa84-f670-4619-90d8-a2eb98694223",
   "metadata": {},
   "outputs": [],
   "source": []
  },
  {
   "cell_type": "code",
   "execution_count": null,
   "id": "aac191dc-13a6-4eab-bc60-2e6e9707c2a2",
   "metadata": {},
   "outputs": [],
   "source": []
  },
  {
   "cell_type": "code",
   "execution_count": null,
   "id": "aaaf87d9-f3be-4c45-9282-c8a5b361b303",
   "metadata": {},
   "outputs": [],
   "source": []
  },
  {
   "cell_type": "code",
   "execution_count": null,
   "id": "a08e5469-c85f-4ece-b5f3-055a5d1bacf3",
   "metadata": {},
   "outputs": [],
   "source": []
  },
  {
   "cell_type": "code",
   "execution_count": null,
   "id": "0e946811-fb92-468f-b701-d8abd3b6138b",
   "metadata": {},
   "outputs": [],
   "source": []
  },
  {
   "cell_type": "code",
   "execution_count": null,
   "id": "5232a093-2917-46f8-9825-f9b788728000",
   "metadata": {},
   "outputs": [],
   "source": []
  },
  {
   "cell_type": "code",
   "execution_count": null,
   "id": "ed71800b-b034-4c38-9ac2-b135340436a9",
   "metadata": {},
   "outputs": [],
   "source": []
  },
  {
   "cell_type": "code",
   "execution_count": null,
   "id": "a796d9ad-6ab8-4f7f-86b9-096f5f3e440e",
   "metadata": {},
   "outputs": [],
   "source": []
  },
  {
   "cell_type": "code",
   "execution_count": null,
   "id": "fe41bca1-15dc-4270-836e-4566ed1cf262",
   "metadata": {},
   "outputs": [],
   "source": []
  },
  {
   "cell_type": "code",
   "execution_count": null,
   "id": "d9f31c3b-3d71-46b5-9271-6d7374dbabde",
   "metadata": {},
   "outputs": [],
   "source": []
  },
  {
   "cell_type": "code",
   "execution_count": null,
   "id": "ddec1ad9-4031-4497-88fc-b91bc1b31b01",
   "metadata": {},
   "outputs": [],
   "source": []
  },
  {
   "cell_type": "code",
   "execution_count": null,
   "id": "aa1532a3-7887-4768-8aa2-971985911929",
   "metadata": {},
   "outputs": [],
   "source": []
  },
  {
   "cell_type": "code",
   "execution_count": null,
   "id": "eb313b41-9217-4765-9df5-ffb40d276f0d",
   "metadata": {},
   "outputs": [],
   "source": []
  },
  {
   "cell_type": "code",
   "execution_count": null,
   "id": "8d5e92f3-46a8-4eb9-90f2-d5893746180e",
   "metadata": {},
   "outputs": [],
   "source": []
  },
  {
   "cell_type": "code",
   "execution_count": null,
   "id": "d39db5d6-670e-407c-bf22-37dc92cd2479",
   "metadata": {},
   "outputs": [],
   "source": []
  },
  {
   "cell_type": "code",
   "execution_count": null,
   "id": "48b54b28-1a26-43c1-9a4e-400fb3e8edbf",
   "metadata": {},
   "outputs": [],
   "source": []
  },
  {
   "cell_type": "code",
   "execution_count": null,
   "id": "0578cfdd-410c-45af-a7be-f15710361fda",
   "metadata": {},
   "outputs": [],
   "source": []
  },
  {
   "cell_type": "code",
   "execution_count": null,
   "id": "450afeec-b4c6-4fb7-a3a4-146cf4518210",
   "metadata": {},
   "outputs": [],
   "source": []
  },
  {
   "cell_type": "code",
   "execution_count": null,
   "id": "2c47282d-4107-4df9-8dca-0ad6712b2b00",
   "metadata": {},
   "outputs": [],
   "source": []
  },
  {
   "cell_type": "code",
   "execution_count": null,
   "id": "2d64a93a-9a35-4f94-a770-ea0ba15c4ce5",
   "metadata": {},
   "outputs": [],
   "source": []
  }
 ],
 "metadata": {
  "kernelspec": {
   "display_name": "Python 3 (ipykernel)",
   "language": "python",
   "name": "python3"
  },
  "language_info": {
   "codemirror_mode": {
    "name": "ipython",
    "version": 3
   },
   "file_extension": ".py",
   "mimetype": "text/x-python",
   "name": "python",
   "nbconvert_exporter": "python",
   "pygments_lexer": "ipython3",
   "version": "3.9.12"
  }
 },
 "nbformat": 4,
 "nbformat_minor": 5
}
